{
  "nbformat": 4,
  "nbformat_minor": 0,
  "metadata": {
    "colab": {
      "provenance": []
    },
    "kernelspec": {
      "name": "python3",
      "display_name": "Python 3"
    },
    "language_info": {
      "name": "python"
    }
  },
  "cells": [
    {
      "cell_type": "code",
      "execution_count": null,
      "metadata": {
        "colab": {
          "base_uri": "https://localhost:8080/"
        },
        "id": "ra8UWNPT4iWD",
        "outputId": "78145d02-4924-4e87-cfc4-d4a763eddc7d"
      },
      "outputs": [
        {
          "output_type": "stream",
          "name": "stdout",
          "text": [
            "Mounted at /content/drive\n"
          ]
        }
      ],
      "source": [
        "from google.colab import drive\n",
        "drive.mount('/content/drive')"
      ]
    },
    {
      "cell_type": "code",
      "source": [
        "import numpy as np\n",
        "from sklearn.preprocessing import StandardScaler"
      ],
      "metadata": {
        "id": "SBC6wKkmHJfc"
      },
      "execution_count": null,
      "outputs": []
    },
    {
      "cell_type": "code",
      "source": [
        "x = np.load('/content/drive/MyDrive/data.T/X.npy')\n",
        "y = np.load('/content/drive/MyDrive/data.T/Y.npy')"
      ],
      "metadata": {
        "id": "Xz3_YRr9HXuM"
      },
      "execution_count": null,
      "outputs": []
    },
    {
      "cell_type": "code",
      "source": [
        "d = np.genfromtxt('/content/drive/MyDrive/data.T/Vert.csv', delimiter = ',')\n",
        "d = d[1:]"
      ],
      "metadata": {
        "id": "5YB3xV1zIBnr"
      },
      "execution_count": null,
      "outputs": []
    },
    {
      "cell_type": "code",
      "source": [
        "y.shape"
      ],
      "metadata": {
        "colab": {
          "base_uri": "https://localhost:8080/"
        },
        "id": "RRTmgeisIYhz",
        "outputId": "0d8a1c31-3f82-4e40-99ae-be6bf01e09ba"
      },
      "execution_count": null,
      "outputs": [
        {
          "output_type": "execute_result",
          "data": {
            "text/plain": [
              "(15002, 4, 15002)"
            ]
          },
          "metadata": {},
          "execution_count": 5
        }
      ]
    },
    {
      "cell_type": "code",
      "source": [
        "dip_y = np.zeros((15002,4,3))\n",
        "for i in range(15002):\n",
        "  for j in range(3):\n",
        "    dip_y[i,j] = d[y[i][j].nonzero()[0][0]]"
      ],
      "metadata": {
        "id": "hvTrf9VzIFHj"
      },
      "execution_count": null,
      "outputs": []
    },
    {
      "cell_type": "code",
      "source": [
        "for i in range(15002):\n",
        "    scaler = StandardScaler().fit(x[i])\n",
        "    x[i] = scaler.transform(x[i])"
      ],
      "metadata": {
        "id": "SbyV2k7nIHTL"
      },
      "execution_count": null,
      "outputs": []
    },
    {
      "cell_type": "code",
      "source": [
        "test_x = np.load('/content/drive/MyDrive/data.T/testX.npy')\n",
        "test_y = np.load('/content/drive/MyDrive/data.T/testY.npy')"
      ],
      "metadata": {
        "id": "ADN6ixQqImn3"
      },
      "execution_count": null,
      "outputs": []
    },
    {
      "cell_type": "code",
      "source": [
        "test_dip = np.zeros((test_y.shape[0],4,3))\n",
        "for i in range(test_y.shape[0]):\n",
        "  for j in range(3):\n",
        "    test_dip[i,j] = d[test_y[i][j].nonzero()[0][0]]"
      ],
      "metadata": {
        "id": "WIGiYNuoInOG"
      },
      "execution_count": null,
      "outputs": []
    },
    {
      "cell_type": "code",
      "source": [
        "for i in range(test_x.shape[0]):\n",
        "    scaler = StandardScaler().fit(test_x[i])\n",
        "    test_x[i] = scaler.transform(test_x[i])"
      ],
      "metadata": {
        "id": "4bjKTmy6I0wb"
      },
      "execution_count": null,
      "outputs": []
    },
    {
      "cell_type": "code",
      "source": [
        "from keras.models import Sequential\n",
        "from keras.layers import Dense\n",
        "from keras.layers import LSTM\n",
        "from keras.layers import GRU\n",
        "from keras.layers import SimpleRNN\n",
        "from keras.metrics import BinaryAccuracy\n",
        "from keras.metrics import RootMeanSquaredError\n",
        "from keras import regularizers"
      ],
      "metadata": {
        "id": "auulQFX8I_Yj"
      },
      "execution_count": null,
      "outputs": []
    },
    {
      "cell_type": "code",
      "source": [
        "model = Sequential()\n",
        "model.add(LSTM(3, return_sequences=True, \n",
        "               kernel_regularizer=regularizers.L1L2(l1=0.01, l2=0.01),\n",
        "               bias_regularizer=regularizers.L2(0.01),\n",
        "               activity_regularizer=regularizers.L2(0.01)))\n",
        "model.compile(optimizer='SGD', loss='mean_squared_error', metrics = RootMeanSquaredError())"
      ],
      "metadata": {
        "id": "T-8T2QPxJQkT"
      },
      "execution_count": null,
      "outputs": []
    },
    {
      "cell_type": "code",
      "source": [
        "model.fit(x, dip_y, epochs=20, batch_size=32)"
      ],
      "metadata": {
        "colab": {
          "base_uri": "https://localhost:8080/"
        },
        "id": "0G9xSOwTPui_",
        "outputId": "09e9e021-55f7-412b-eaa2-774ee29603f1"
      },
      "execution_count": null,
      "outputs": [
        {
          "output_type": "stream",
          "name": "stdout",
          "text": [
            "Epoch 1/20\n",
            "469/469 [==============================] - 4s 3ms/step - loss: 1.8801 - root_mean_squared_error: 0.1444\n",
            "Epoch 2/20\n",
            "469/469 [==============================] - 1s 3ms/step - loss: 0.5154 - root_mean_squared_error: 0.0646\n",
            "Epoch 3/20\n",
            "469/469 [==============================] - 1s 3ms/step - loss: 0.0450 - root_mean_squared_error: 0.0406\n",
            "Epoch 4/20\n",
            "469/469 [==============================] - 1s 3ms/step - loss: 0.0190 - root_mean_squared_error: 0.0393\n",
            "Epoch 5/20\n",
            "469/469 [==============================] - 1s 3ms/step - loss: 0.0163 - root_mean_squared_error: 0.0390\n",
            "Epoch 6/20\n",
            "469/469 [==============================] - 1s 3ms/step - loss: 0.0141 - root_mean_squared_error: 0.0388\n",
            "Epoch 7/20\n",
            "469/469 [==============================] - 2s 4ms/step - loss: 0.0123 - root_mean_squared_error: 0.0387\n",
            "Epoch 8/20\n",
            "469/469 [==============================] - 2s 4ms/step - loss: 0.0108 - root_mean_squared_error: 0.0386\n",
            "Epoch 9/20\n",
            "469/469 [==============================] - 2s 3ms/step - loss: 0.0095 - root_mean_squared_error: 0.0386\n",
            "Epoch 10/20\n",
            "469/469 [==============================] - 1s 3ms/step - loss: 0.0085 - root_mean_squared_error: 0.0385\n",
            "Epoch 11/20\n",
            "469/469 [==============================] - 1s 3ms/step - loss: 0.0076 - root_mean_squared_error: 0.0385\n",
            "Epoch 12/20\n",
            "469/469 [==============================] - 1s 3ms/step - loss: 0.0069 - root_mean_squared_error: 0.0384\n",
            "Epoch 13/20\n",
            "469/469 [==============================] - 1s 3ms/step - loss: 0.0063 - root_mean_squared_error: 0.0384\n",
            "Epoch 14/20\n",
            "469/469 [==============================] - 1s 3ms/step - loss: 0.0058 - root_mean_squared_error: 0.0384\n",
            "Epoch 15/20\n",
            "469/469 [==============================] - 1s 3ms/step - loss: 0.0054 - root_mean_squared_error: 0.0383\n",
            "Epoch 16/20\n",
            "469/469 [==============================] - 1s 3ms/step - loss: 0.0050 - root_mean_squared_error: 0.0383\n",
            "Epoch 17/20\n",
            "469/469 [==============================] - 1s 3ms/step - loss: 0.0048 - root_mean_squared_error: 0.0383\n",
            "Epoch 18/20\n",
            "469/469 [==============================] - 1s 3ms/step - loss: 0.0045 - root_mean_squared_error: 0.0383\n",
            "Epoch 19/20\n",
            "469/469 [==============================] - 1s 3ms/step - loss: 0.0043 - root_mean_squared_error: 0.0383\n",
            "Epoch 20/20\n",
            "469/469 [==============================] - 1s 3ms/step - loss: 0.0042 - root_mean_squared_error: 0.0382\n"
          ]
        },
        {
          "output_type": "execute_result",
          "data": {
            "text/plain": [
              "<keras.callbacks.History at 0x7f524c2e5a50>"
            ]
          },
          "metadata": {},
          "execution_count": 13
        }
      ]
    },
    {
      "cell_type": "code",
      "source": [
        "test = model.predict(test_x)"
      ],
      "metadata": {
        "id": "gEGeyPuDKIGC",
        "colab": {
          "base_uri": "https://localhost:8080/"
        },
        "outputId": "2f3bc424-a3d2-4dce-d305-fa826c4c9e91"
      },
      "execution_count": null,
      "outputs": [
        {
          "output_type": "stream",
          "name": "stdout",
          "text": [
            "8/8 [==============================] - 0s 2ms/step\n"
          ]
        }
      ]
    },
    {
      "cell_type": "code",
      "source": [
        "m = RootMeanSquaredError()\n",
        "m.update_state(test_dip[0], test[0])\n",
        "m.result().numpy()*1000"
      ],
      "metadata": {
        "colab": {
          "base_uri": "https://localhost:8080/"
        },
        "id": "XNDYLdgSKIgL",
        "outputId": "e447696d-bed6-475a-dab6-ec7f33b60471"
      },
      "execution_count": null,
      "outputs": [
        {
          "output_type": "execute_result",
          "data": {
            "text/plain": [
              "40.17862305045128"
            ]
          },
          "metadata": {},
          "execution_count": 15
        }
      ]
    },
    {
      "cell_type": "code",
      "source": [
        "test[0]"
      ],
      "metadata": {
        "colab": {
          "base_uri": "https://localhost:8080/"
        },
        "id": "BRhdU0XGKToL",
        "outputId": "77e35640-faf3-4596-e18e-717dffd89020"
      },
      "execution_count": null,
      "outputs": [
        {
          "output_type": "execute_result",
          "data": {
            "text/plain": [
              "array([[ 0.00192036,  0.00023212,  0.02144967],\n",
              "       [ 0.00459053, -0.00068638,  0.02986995],\n",
              "       [ 0.00630837, -0.0020385 ,  0.03407912],\n",
              "       [ 0.00800999, -0.00343212,  0.03514498]], dtype=float32)"
            ]
          },
          "metadata": {},
          "execution_count": 16
        }
      ]
    },
    {
      "cell_type": "code",
      "source": [
        "test_dip[0]"
      ],
      "metadata": {
        "colab": {
          "base_uri": "https://localhost:8080/"
        },
        "id": "fLrjv9giK38K",
        "outputId": "f7d5a54b-ce3c-47d0-cb9d-c53745b557c9"
      },
      "execution_count": null,
      "outputs": [
        {
          "output_type": "execute_result",
          "data": {
            "text/plain": [
              "array([[-0.040927, -0.031953,  0.081446],\n",
              "       [-0.046036, -0.032946,  0.081814],\n",
              "       [-0.040678, -0.029895,  0.082077],\n",
              "       [ 0.      ,  0.      ,  0.      ]])"
            ]
          },
          "metadata": {},
          "execution_count": 17
        }
      ]
    },
    {
      "cell_type": "code",
      "source": [
        "err = 0\n",
        "for i in range(test.shape[0]):\n",
        "  for j in range(3):\n",
        "    err += (((test_dip[i][j][0]-test[i][j][0])*1000)**2+((test_dip[i][j][1]-test[i][j][1])*1000)**2+((test_dip[i][j][2]-test[i][j][2])*1000)**2)**(1/2)\n",
        "print(err/750)"
      ],
      "metadata": {
        "id": "5fuQ-YOHK7n6",
        "colab": {
          "base_uri": "https://localhost:8080/"
        },
        "outputId": "574db8dc-f79d-441f-866e-31120570c96a"
      },
      "execution_count": null,
      "outputs": [
        {
          "output_type": "stream",
          "name": "stdout",
          "text": [
            "70.47783819007859\n"
          ]
        }
      ]
    },
    {
      "cell_type": "code",
      "source": [],
      "metadata": {
        "id": "TC6A1yJfItHx"
      },
      "execution_count": null,
      "outputs": []
    }
  ]
}