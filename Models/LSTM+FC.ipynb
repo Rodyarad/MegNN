{
  "nbformat": 4,
  "nbformat_minor": 0,
  "metadata": {
    "colab": {
      "provenance": []
    },
    "kernelspec": {
      "name": "python3",
      "display_name": "Python 3"
    },
    "language_info": {
      "name": "python"
    },
    "accelerator": "GPU"
  },
  "cells": [
    {
      "cell_type": "code",
      "execution_count": 1,
      "metadata": {
        "colab": {
          "base_uri": "https://localhost:8080/"
        },
        "id": "POhmifaXrWD6",
        "outputId": "cec8bf97-9f34-4ff8-8972-49415c6b2303"
      },
      "outputs": [
        {
          "output_type": "stream",
          "name": "stdout",
          "text": [
            "Mounted at /content/drive\n"
          ]
        }
      ],
      "source": [
        "from google.colab import drive\n",
        "drive.mount('/content/drive')"
      ]
    },
    {
      "cell_type": "code",
      "source": [
        "import numpy as np\n",
        "from sklearn.preprocessing import StandardScaler\n",
        "\n",
        "from keras.models import Sequential\n",
        "from keras.layers import Dense\n",
        "from keras.layers import LSTM\n",
        "from keras.layers import GRU\n",
        "from keras.layers import SimpleRNN\n",
        "from keras.metrics import BinaryAccuracy, CategoricalAccuracy"
      ],
      "metadata": {
        "id": "oB6-pb2OztjE"
      },
      "execution_count": 3,
      "outputs": []
    },
    {
      "cell_type": "code",
      "source": [
        "x = np.load('/content/drive/MyDrive/data.T/X.npy')\n",
        "y = np.load('/content/drive/MyDrive/data.T/Y.npy')\n",
        "\n",
        "for i in range(15002):\n",
        "    scaler = StandardScaler().fit(x[i])\n",
        "    x[i] = scaler.transform(x[i])\n",
        "\n",
        "d = np.genfromtxt('/content/drive/MyDrive/data.T/Vert.csv', delimiter = ',')\n",
        "d = d[1:]"
      ],
      "metadata": {
        "id": "h_M9igzQz7j6"
      },
      "execution_count": 4,
      "outputs": []
    },
    {
      "cell_type": "code",
      "source": [
        "model = Sequential()\n",
        "model.add(LSTM(5000, return_sequences=True, activation=\"softmax\"))\n",
        "model.add(Dense(5000))\n",
        "model.add(Dense(15002, activation = \"softmax\"))\n",
        "model.compile(optimizer='Adam', loss = 'categorical_crossentropy', metrics = 'CategoricalAccuracy')"
      ],
      "metadata": {
        "colab": {
          "base_uri": "https://localhost:8080/"
        },
        "id": "uWRLtn7i0h6f",
        "outputId": "0bd7f685-f799-4583-a828-ab4caac87ee0"
      },
      "execution_count": 6,
      "outputs": [
        {
          "output_type": "stream",
          "name": "stderr",
          "text": [
            "WARNING:tensorflow:Layer lstm_1 will not use cuDNN kernels since it doesn't meet the criteria. It will use a generic GPU kernel as fallback when running on GPU.\n"
          ]
        }
      ]
    },
    {
      "cell_type": "code",
      "source": [
        "model.fit(x, y, epochs=10, batch_size=32)"
      ],
      "metadata": {
        "colab": {
          "base_uri": "https://localhost:8080/"
        },
        "id": "syB1Dc5y14a5",
        "outputId": "d257bea1-d4e9-47d5-aaae-d01a979c9148"
      },
      "execution_count": 35,
      "outputs": [
        {
          "output_type": "stream",
          "name": "stdout",
          "text": [
            "Epoch 1/10\n",
            "469/469 [==============================] - 53s 114ms/step - loss: 1.0157 - categorical_accuracy: 0.8298\n",
            "Epoch 2/10\n",
            "469/469 [==============================] - 53s 114ms/step - loss: 0.9604 - categorical_accuracy: 0.8421\n",
            "Epoch 3/10\n",
            "469/469 [==============================] - 53s 114ms/step - loss: 0.9051 - categorical_accuracy: 0.8522\n",
            "Epoch 4/10\n",
            "469/469 [==============================] - 53s 114ms/step - loss: 0.8544 - categorical_accuracy: 0.8613\n",
            "Epoch 5/10\n",
            "469/469 [==============================] - 53s 114ms/step - loss: 0.8062 - categorical_accuracy: 0.8725\n",
            "Epoch 6/10\n",
            "469/469 [==============================] - 53s 114ms/step - loss: 0.7576 - categorical_accuracy: 0.8806\n",
            "Epoch 7/10\n",
            "469/469 [==============================] - 54s 114ms/step - loss: 0.7122 - categorical_accuracy: 0.8899\n",
            "Epoch 8/10\n",
            "469/469 [==============================] - 53s 114ms/step - loss: 0.6707 - categorical_accuracy: 0.8966\n",
            "Epoch 9/10\n",
            "469/469 [==============================] - 54s 114ms/step - loss: 0.6290 - categorical_accuracy: 0.9031\n",
            "Epoch 10/10\n",
            "469/469 [==============================] - 53s 113ms/step - loss: 0.5889 - categorical_accuracy: 0.9108\n"
          ]
        },
        {
          "output_type": "execute_result",
          "data": {
            "text/plain": [
              "<keras.callbacks.History at 0x7fca275b2e10>"
            ]
          },
          "metadata": {},
          "execution_count": 35
        }
      ]
    },
    {
      "cell_type": "code",
      "source": [
        "model.summary()"
      ],
      "metadata": {
        "id": "KZjQtEDH1TmE",
        "colab": {
          "base_uri": "https://localhost:8080/"
        },
        "outputId": "db596756-9c9f-4ccf-97e9-100450a27ef9"
      },
      "execution_count": 8,
      "outputs": [
        {
          "output_type": "stream",
          "name": "stdout",
          "text": [
            "Model: \"sequential_1\"\n",
            "_________________________________________________________________\n",
            " Layer (type)                Output Shape              Param #   \n",
            "=================================================================\n",
            " lstm_1 (LSTM)               (None, 4, 5000)           106140000 \n",
            "                                                                 \n",
            " dense_2 (Dense)             (None, 4, 5000)           25005000  \n",
            "                                                                 \n",
            " dense_3 (Dense)             (None, 4, 15002)          75025002  \n",
            "                                                                 \n",
            "=================================================================\n",
            "Total params: 206,170,002\n",
            "Trainable params: 206,170,002\n",
            "Non-trainable params: 0\n",
            "_________________________________________________________________\n"
          ]
        }
      ]
    },
    {
      "cell_type": "code",
      "source": [
        "test_x = np.load('/content/drive/MyDrive/data.T/testX.npy')\n",
        "test_y = np.load('/content/drive/MyDrive/data.T/testY.npy')"
      ],
      "metadata": {
        "id": "D3Qa2WaL3FSJ"
      },
      "execution_count": 36,
      "outputs": []
    },
    {
      "cell_type": "code",
      "source": [
        "for i in range(250):\n",
        "    scaler = StandardScaler().fit(test_x[i])\n",
        "    test_x[i] = scaler.transform(test_x[i])"
      ],
      "metadata": {
        "id": "1q4PF61e3IW-"
      },
      "execution_count": 37,
      "outputs": []
    },
    {
      "cell_type": "code",
      "source": [
        "y_pred= model.predict(test_x)"
      ],
      "metadata": {
        "id": "WmHHpbqS3M3L",
        "colab": {
          "base_uri": "https://localhost:8080/"
        },
        "outputId": "244d1ece-f9de-499c-8d59-5a424145a6bb"
      },
      "execution_count": 38,
      "outputs": [
        {
          "output_type": "stream",
          "name": "stdout",
          "text": [
            "8/8 [==============================] - 0s 23ms/step\n"
          ]
        }
      ]
    },
    {
      "cell_type": "code",
      "source": [
        "err1 = []\n",
        "err2 = []\n",
        "for n_dip in range(len(test_y)):\n",
        "  k1=[]\n",
        "  k2=[]\n",
        "\n",
        "  for j in range(4):\n",
        "    max = y_pred[n_dip][j][0]\n",
        "    for i in range(15002):\n",
        "      if y_pred[n_dip][j][i]>max:\n",
        "        max = y_pred[n_dip][j][i]\n",
        "        k = i\n",
        "    k1.append(k)\n",
        "\n",
        "  for j in range(4):\n",
        "    max = test_y[n_dip][j][0]\n",
        "    for i in range(15002):\n",
        "      if test_y[n_dip][j][i]>max:\n",
        "        max = test_y[n_dip][j][i]\n",
        "        k = i\n",
        "    k2.append(k)\n",
        "  \n",
        "  for i in range(4):\n",
        "    tr = d[k2[i]]\n",
        "    pr = d[k1[i]]\n",
        "    err1.append((((tr[0]-pr[0])*1000)**2+((tr[1]-pr[1])*1000)**2+((tr[2]-pr[2])*1000)**2)**(1/2))\n",
        "\n",
        "  for i in range(3):\n",
        "    d1 = d[k1[i]]\n",
        "    d2 = d[k1[i+1]]\n",
        "    err2.append((((d2[0]-d1[0])*1000)**2+((d2[1]-d1[1])*1000)**2+((d2[2]-d1[2])*1000)**2)**(1/2))\n",
        "\n",
        "err1 = np.array( err1 )\n",
        "err2 = np.array( err2 )\n",
        "\n",
        "print(np.mean(err1))\n",
        "print(np.mean(err2))"
      ],
      "metadata": {
        "id": "C3QkII4g3flM",
        "colab": {
          "base_uri": "https://localhost:8080/"
        },
        "outputId": "b1a56445-d4e5-44a1-c01b-8898ef2a15bf"
      },
      "execution_count": 39,
      "outputs": [
        {
          "output_type": "stream",
          "name": "stdout",
          "text": [
            "24.49152855395931\n",
            "37.34228891073179\n"
          ]
        }
      ]
    },
    {
      "cell_type": "code",
      "source": [
        "err_sig = []\n",
        "for i in range(len(err1)):\n",
        "  if i % 4 == 0 and i != 0:\n",
        "    err_sig.append(np.mean(err1[i-4:i]))"
      ],
      "metadata": {
        "id": "BV0Nz-K2ibn1"
      },
      "execution_count": 40,
      "outputs": []
    },
    {
      "cell_type": "code",
      "source": [
        "err_sig"
      ],
      "metadata": {
        "colab": {
          "base_uri": "https://localhost:8080/"
        },
        "id": "NfudlFDkjZMd",
        "outputId": "03ec6f70-ead8-4135-f815-1fc45e08153d"
      },
      "execution_count": 41,
      "outputs": [
        {
          "output_type": "execute_result",
          "data": {
            "text/plain": [
              "[10.333728527997183,\n",
              " 12.126143307132722,\n",
              " 7.977421779704088,\n",
              " 31.748329573942655,\n",
              " 12.596902147603297,\n",
              " 46.45432740481504,\n",
              " 14.012977694983793,\n",
              " 52.37407880343428,\n",
              " 5.683105422478528,\n",
              " 63.54637415760174,\n",
              " 25.150699445395258,\n",
              " 13.68097623756696,\n",
              " 7.06965661150779,\n",
              " 16.679569257558562,\n",
              " 31.64898375527395,\n",
              " 50.384510246108725,\n",
              " 16.721039938305108,\n",
              " 57.509758441004735,\n",
              " 6.481587843056225,\n",
              " 51.42195609853613,\n",
              " 52.136367420913245,\n",
              " 20.64442840546345,\n",
              " 46.16983209594931,\n",
              " 7.272608192640295,\n",
              " 72.85810895719183,\n",
              " 13.255002307264277,\n",
              " 9.858251014943795,\n",
              " 16.646859797772763,\n",
              " 17.992845399713346,\n",
              " 38.331057416469875,\n",
              " 25.94931255429983,\n",
              " 11.468059842369899,\n",
              " 4.488818026093373,\n",
              " 8.329442597852223,\n",
              " 11.7952499745805,\n",
              " 30.33347492928841,\n",
              " 11.214946809387232,\n",
              " 22.344425972366473,\n",
              " 13.81164292081285,\n",
              " 38.44546201607441,\n",
              " 17.65921817182431,\n",
              " 31.95123281664235,\n",
              " 9.946027538418079,\n",
              " 15.776667640123328,\n",
              " 44.35640710168249,\n",
              " 9.653944170511522,\n",
              " 8.975867784990795,\n",
              " 6.695118407979634,\n",
              " 40.94091116454451,\n",
              " 7.72727516578246,\n",
              " 21.01184462479236,\n",
              " 13.753073189375657,\n",
              " 78.28445651111062,\n",
              " 19.195806697791603,\n",
              " 10.17222234984288,\n",
              " 38.39187983064834,\n",
              " 48.045428898324374,\n",
              " 13.415194162469954,\n",
              " 30.52770053372398,\n",
              " 30.10345278091716,\n",
              " 85.98472985950923,\n",
              " 16.038852524137315,\n",
              " 16.018150820997985,\n",
              " 33.71489711641075,\n",
              " 32.025051582724515,\n",
              " 6.233586982185612,\n",
              " 9.463462288858588,\n",
              " 59.02291399763901,\n",
              " 52.23391405780818,\n",
              " 18.668980767088772,\n",
              " 28.06578071483747,\n",
              " 18.340995412654404,\n",
              " 6.986381664537938,\n",
              " 37.42899054680316,\n",
              " 7.262937606795049,\n",
              " 28.870997473468673,\n",
              " 13.73324923581347,\n",
              " 34.79496302252144,\n",
              " 17.21792839497683,\n",
              " 48.501191781430485,\n",
              " 10.977108019933725,\n",
              " 8.214834170181938,\n",
              " 17.98433784926968,\n",
              " 12.053517983396585,\n",
              " 5.39916552659211,\n",
              " 26.151396775225965,\n",
              " 15.256776534297904,\n",
              " 12.890539117010835,\n",
              " 7.646658479425597,\n",
              " 8.846985791078428,\n",
              " 8.11262980090649,\n",
              " 38.732620360912584,\n",
              " 15.208960373398448,\n",
              " 2.008239415675317,\n",
              " 48.64060053977733,\n",
              " 37.64829873922418,\n",
              " 33.91489939212786,\n",
              " 10.317270508919963,\n",
              " 24.44735632710136,\n",
              " 17.341958166173658,\n",
              " 75.17137984314527,\n",
              " 34.001749815521,\n",
              " 27.091574881974466,\n",
              " 47.71751058241264,\n",
              " 16.409848790109614,\n",
              " 80.30578556592613,\n",
              " 65.21389666147721,\n",
              " 4.928558103859695,\n",
              " 10.4000013017314,\n",
              " 8.860833953693877,\n",
              " 39.84717775650207,\n",
              " 31.61620472876487,\n",
              " 10.803315376349925,\n",
              " 56.97803850471354,\n",
              " 13.229266738367786,\n",
              " 20.20976804721775,\n",
              " 13.05076495070851,\n",
              " 13.86000560420819,\n",
              " 12.254868863841315,\n",
              " 61.53860093236804,\n",
              " 11.442347882629203,\n",
              " 11.833758403969616,\n",
              " 21.08009665851109,\n",
              " 12.529893780233056,\n",
              " 6.962064434937532,\n",
              " 13.816590696001526,\n",
              " 14.640018838680556,\n",
              " 47.543445202890226,\n",
              " 6.813851068031215,\n",
              " 84.17911243005516,\n",
              " 29.516046791387822,\n",
              " 51.44090211985899,\n",
              " 41.462259907013305,\n",
              " 8.097359208692742,\n",
              " 49.524985013120855,\n",
              " 7.771774920813913,\n",
              " 10.377311239683136,\n",
              " 12.644827901329858,\n",
              " 38.18429670977184,\n",
              " 107.89847183122785,\n",
              " 30.596946692882554,\n",
              " 21.993648577513063,\n",
              " 37.82678853183596,\n",
              " 16.497546963666398,\n",
              " 42.418925525159466,\n",
              " 28.37583120949961,\n",
              " 20.86006718881653,\n",
              " 7.167396348788869,\n",
              " 45.41364239642858,\n",
              " 11.732807475763135,\n",
              " 20.633343509286938,\n",
              " 18.632181927437948,\n",
              " 17.411505109451856,\n",
              " 11.304921756544712,\n",
              " 26.091559391637798,\n",
              " 17.744438634129384,\n",
              " 1.9257963936703264,\n",
              " 67.41050784618672,\n",
              " 8.815456855094082,\n",
              " 9.185104981967793,\n",
              " 26.369551097454114,\n",
              " 30.936650992264013,\n",
              " 2.3442242454324655,\n",
              " 8.957335535663065,\n",
              " 17.226665398975996,\n",
              " 11.612465281179702,\n",
              " 23.24816038146301,\n",
              " 13.215266364798268,\n",
              " 12.499304189057854,\n",
              " 61.263807264831584,\n",
              " 32.23656823828794,\n",
              " 42.965522016702565,\n",
              " 40.77422181984392,\n",
              " 9.52187717479321,\n",
              " 10.407393348835368,\n",
              " 45.92442720315047,\n",
              " 18.332692409470955,\n",
              " 17.732382079287724,\n",
              " 15.235206560192985,\n",
              " 6.893064522017147,\n",
              " 4.128451337744308,\n",
              " 30.218495093261673,\n",
              " 10.070078946682273,\n",
              " 20.515675884174062,\n",
              " 45.31357944921316,\n",
              " 19.83380763203447,\n",
              " 24.03860781448792,\n",
              " 33.65857677892053,\n",
              " 35.13935530402193,\n",
              " 35.60933922939687,\n",
              " 25.935488032363565,\n",
              " 88.57264575574396,\n",
              " 10.61350936512492,\n",
              " 11.241126489246218,\n",
              " 20.58716709552286,\n",
              " 13.048700217154508,\n",
              " 61.06445461328312,\n",
              " 43.325647889176715,\n",
              " 31.591040970434765,\n",
              " 6.183288043585583,\n",
              " 18.46611489375251,\n",
              " 13.285784931298382,\n",
              " 7.447487642587443,\n",
              " 14.222189923267354,\n",
              " 28.04701480409095,\n",
              " 3.82508969776369,\n",
              " 11.706588467535827,\n",
              " 9.408515692723245,\n",
              " 7.194030734350456,\n",
              " 13.33605528532016,\n",
              " 8.419744751285528,\n",
              " 23.914763862595457,\n",
              " 10.652810881582663,\n",
              " 58.21943098431102,\n",
              " 10.335632423652374,\n",
              " 18.990369802669683,\n",
              " 29.691277621657914,\n",
              " 15.829969032508565,\n",
              " 33.205248284229796,\n",
              " 46.63259818977298,\n",
              " 10.976443264258318,\n",
              " 47.09274570441191,\n",
              " 23.194605281054542,\n",
              " 6.955640834209081,\n",
              " 11.271244198095166,\n",
              " 6.245759244666317,\n",
              " 14.731233883508366,\n",
              " 4.057710125418488,\n",
              " 11.88064038438543,\n",
              " 50.64718729590007,\n",
              " 14.997251855421265,\n",
              " 56.86120680802644,\n",
              " 14.640269961859087,\n",
              " 52.38219356878252,\n",
              " 5.954332560355593,\n",
              " 15.479012650316557,\n",
              " 32.62954831978714,\n",
              " 10.308749857753927,\n",
              " 8.688806863220643,\n",
              " 10.08440427418562,\n",
              " 7.352867446805286,\n",
              " 15.172604103468203,\n",
              " 12.698668362655873,\n",
              " 44.88399217131148,\n",
              " 4.338438160266797,\n",
              " 14.750604133534203,\n",
              " 45.39757188613939,\n",
              " 13.603550275422243,\n",
              " 5.510793741815466]"
            ]
          },
          "metadata": {},
          "execution_count": 41
        }
      ]
    },
    {
      "cell_type": "code",
      "source": [
        "k2"
      ],
      "metadata": {
        "id": "8pupFHld4q-k",
        "colab": {
          "base_uri": "https://localhost:8080/"
        },
        "outputId": "04b21581-1db3-4095-bbca-a4511e13f2d8"
      },
      "execution_count": 42,
      "outputs": [
        {
          "output_type": "execute_result",
          "data": {
            "text/plain": [
              "[5911, 6107, 6249, 13484]"
            ]
          },
          "metadata": {},
          "execution_count": 42
        }
      ]
    },
    {
      "cell_type": "code",
      "source": [
        "k1"
      ],
      "metadata": {
        "id": "GwmANU8Y4s1M",
        "colab": {
          "base_uri": "https://localhost:8080/"
        },
        "outputId": "35ade317-f91a-488a-9cd9-9bea2aa8c47f"
      },
      "execution_count": 43,
      "outputs": [
        {
          "output_type": "execute_result",
          "data": {
            "text/plain": [
              "[6602, 7002, 6349, 13683]"
            ]
          },
          "metadata": {},
          "execution_count": 43
        }
      ]
    },
    {
      "cell_type": "code",
      "source": [
        "np.max(y_pred[0][0])"
      ],
      "metadata": {
        "colab": {
          "base_uri": "https://localhost:8080/"
        },
        "id": "_33vO8tuWHNl",
        "outputId": "9b0e9b58-7b38-4e00-c303-ab35689ae000"
      },
      "execution_count": 44,
      "outputs": [
        {
          "output_type": "execute_result",
          "data": {
            "text/plain": [
              "0.54356825"
            ]
          },
          "metadata": {},
          "execution_count": 44
        }
      ]
    },
    {
      "cell_type": "code",
      "source": [
        "#model.save('lstm+fc+№2.h5') "
      ],
      "metadata": {
        "id": "8V7Y0mffK0-7"
      },
      "execution_count": null,
      "outputs": []
    },
    {
      "cell_type": "code",
      "source": [
        "forimage= model.predict(test_x[:1])"
      ],
      "metadata": {
        "colab": {
          "base_uri": "https://localhost:8080/"
        },
        "id": "rOICEiFcN2G_",
        "outputId": "e930720e-e8b6-4d02-fa71-b9144a76176e"
      },
      "execution_count": 45,
      "outputs": [
        {
          "output_type": "stream",
          "name": "stdout",
          "text": [
            "1/1 [==============================] - 0s 27ms/step\n"
          ]
        }
      ]
    },
    {
      "cell_type": "code",
      "source": [
        "k1 =[]\n",
        "dip_y = np.zeros((4,3))\n",
        "for i in range(4):\n",
        "    dip_y[i] = d[test_y[0][i].nonzero()[0][0]]\n",
        "    k1.append(test_y[0][i].nonzero()[0][0])"
      ],
      "metadata": {
        "id": "hz-ZoMGzPSJd"
      },
      "execution_count": 46,
      "outputs": []
    },
    {
      "cell_type": "code",
      "source": [
        "forimage.shape"
      ],
      "metadata": {
        "colab": {
          "base_uri": "https://localhost:8080/"
        },
        "id": "_3JPsj_qURsa",
        "outputId": "2b823c5a-1c08-4d16-a337-e7cb87995e0b"
      },
      "execution_count": 47,
      "outputs": [
        {
          "output_type": "execute_result",
          "data": {
            "text/plain": [
              "(1, 4, 15002)"
            ]
          },
          "metadata": {},
          "execution_count": 47
        }
      ]
    },
    {
      "cell_type": "code",
      "source": [
        "k2 = []\n",
        "for j in range(4):\n",
        "  max = forimage[0][j][0]\n",
        "  for i in range(15002):\n",
        "    if forimage[0][j][i]>max:\n",
        "      max = forimage[0][j][i]\n",
        "      k = i\n",
        "  k2.append(k)\n",
        "\n",
        "dip_test = np.zeros((4,3))\n",
        "for i in range(len(k2)):\n",
        "  dip_test[i] = d[k2[i]]"
      ],
      "metadata": {
        "id": "tczQvvZAPoSd"
      },
      "execution_count": 48,
      "outputs": []
    },
    {
      "cell_type": "code",
      "source": [
        "print(k1)\n",
        "print(k2)"
      ],
      "metadata": {
        "colab": {
          "base_uri": "https://localhost:8080/"
        },
        "id": "NsBv9eOKQc39",
        "outputId": "613abe08-1ebb-4063-d5ac-a7680ffca882"
      },
      "execution_count": 49,
      "outputs": [
        {
          "output_type": "stream",
          "name": "stdout",
          "text": [
            "[8512, 8106, 8635, 8440]\n",
            "[8340, 8106, 8494, 7988]\n"
          ]
        }
      ]
    },
    {
      "cell_type": "code",
      "source": [
        "print(dip_y*1000)\n",
        "print(dip_test*1000)"
      ],
      "metadata": {
        "colab": {
          "base_uri": "https://localhost:8080/"
        },
        "id": "8gIPVDcmQfCz",
        "outputId": "cea4d36f-3774-4ebc-bb0e-78c98066e249"
      },
      "execution_count": 50,
      "outputs": [
        {
          "output_type": "stream",
          "name": "stdout",
          "text": [
            "[[-40.927 -31.953  81.446]\n",
            " [-46.036 -32.946  81.814]\n",
            " [-40.678 -29.895  82.077]\n",
            " [-41.599 -33.766  83.539]]\n",
            "[[-43.552 -45.352  86.675]\n",
            " [-46.036 -32.946  81.814]\n",
            " [-38.431 -34.146  93.196]\n",
            " [-51.169 -34.806  94.516]]\n"
          ]
        }
      ]
    },
    {
      "cell_type": "code",
      "source": [
        "err1 = []\n",
        "for i in range(4):\n",
        "  tr = d[k2[i]]\n",
        "  pr = d[k1[i]]\n",
        "  err1.append((((tr[0]-pr[0])*1000)**2+((tr[1]-pr[1])*1000)**2+((tr[2]-pr[2])*1000)**2)**(1/2))"
      ],
      "metadata": {
        "id": "dZNMTLcKWdit"
      },
      "execution_count": 51,
      "outputs": []
    },
    {
      "cell_type": "code",
      "source": [
        "err1 = np.array(err1)\n",
        "np.mean(err1)"
      ],
      "metadata": {
        "colab": {
          "base_uri": "https://localhost:8080/"
        },
        "id": "W2EMaqecaZ95",
        "outputId": "c4612693-b64b-44c2-e145-71a3805a085f"
      },
      "execution_count": 52,
      "outputs": [
        {
          "output_type": "execute_result",
          "data": {
            "text/plain": [
              "10.333728527997183"
            ]
          },
          "metadata": {},
          "execution_count": 52
        }
      ]
    },
    {
      "cell_type": "code",
      "source": [],
      "metadata": {
        "id": "t9j3OK4OqFA8"
      },
      "execution_count": null,
      "outputs": []
    }
  ]
}