{
  "nbformat": 4,
  "nbformat_minor": 0,
  "metadata": {
    "colab": {
      "provenance": []
    },
    "kernelspec": {
      "name": "python3",
      "display_name": "Python 3"
    },
    "language_info": {
      "name": "python"
    },
    "accelerator": "GPU"
  },
  "cells": [
    {
      "cell_type": "code",
      "execution_count": null,
      "metadata": {
        "colab": {
          "base_uri": "https://localhost:8080/"
        },
        "id": "StbOnsCmxrq1",
        "outputId": "57c3cf45-5413-4fb1-f994-8cae426e3e7a"
      },
      "outputs": [
        {
          "output_type": "stream",
          "name": "stdout",
          "text": [
            "Drive already mounted at /content/drive; to attempt to forcibly remount, call drive.mount(\"/content/drive\", force_remount=True).\n"
          ]
        }
      ],
      "source": [
        "from google.colab import drive\n",
        "drive.mount('/content/drive')"
      ]
    },
    {
      "cell_type": "code",
      "source": [
        "import numpy as np\n",
        "from sklearn.preprocessing import StandardScaler"
      ],
      "metadata": {
        "id": "h0tEaURZxxpI"
      },
      "execution_count": null,
      "outputs": []
    },
    {
      "cell_type": "code",
      "source": [
        "x = np.load('/content/drive/MyDrive/data.T/X.npy')\n",
        "y = np.load('/content/drive/MyDrive/data.T/Y.npy')"
      ],
      "metadata": {
        "id": "Scr1LXwux3ak"
      },
      "execution_count": null,
      "outputs": []
    },
    {
      "cell_type": "code",
      "source": [
        "d = np.genfromtxt('/content/drive/MyDrive/data.T/Vert.csv', delimiter = ',')\n",
        "d = d[1:]"
      ],
      "metadata": {
        "id": "268lMCRQx4Cd"
      },
      "execution_count": null,
      "outputs": []
    },
    {
      "cell_type": "code",
      "source": [
        "for i in range(15002):\n",
        "    scaler = StandardScaler().fit(x[i])\n",
        "    x[i] = scaler.transform(x[i])"
      ],
      "metadata": {
        "id": "LnBXlW4Xx9Ya"
      },
      "execution_count": null,
      "outputs": []
    },
    {
      "cell_type": "code",
      "source": [
        "batch_size = 32\n",
        "steps_per_epoch = len(x)//batch_size\n",
        "steps_per_epoch"
      ],
      "metadata": {
        "colab": {
          "base_uri": "https://localhost:8080/"
        },
        "id": "BwXyWkM7N6Qz",
        "outputId": "ebc5c402-aab7-4013-fc96-8328dc136f4a"
      },
      "execution_count": null,
      "outputs": [
        {
          "output_type": "execute_result",
          "data": {
            "text/plain": [
              "468"
            ]
          },
          "metadata": {},
          "execution_count": 6
        }
      ]
    },
    {
      "cell_type": "code",
      "source": [
        "from keras.models import Sequential\n",
        "from keras.layers import Dense\n",
        "from keras.layers import LSTM\n",
        "from keras.layers import GRU\n",
        "from keras.layers import SimpleRNN\n",
        "from keras.metrics import BinaryAccuracy"
      ],
      "metadata": {
        "id": "oxPfsxNTyAG1"
      },
      "execution_count": null,
      "outputs": []
    },
    {
      "cell_type": "code",
      "source": [
        "x = np.array([[[1,2,3],[4,5,6]],[[7,8,9],[10,11,12]]])\n",
        "y = np.array([[[12,14,15],[16,20,18]],[[19,5,21],[22,23,24]]])\n",
        "a = np.square(x-y)\n",
        "print(a)\n",
        "b = np.sum(a, axis = 2)\n",
        "print('ааааа\\n')\n",
        "print(b)\n",
        "print(np.mean(np.sqrt(b)))"
      ],
      "metadata": {
        "colab": {
          "base_uri": "https://localhost:8080/"
        },
        "id": "aGvgrHQbSzDU",
        "outputId": "9bd09623-2d2f-46f6-e432-d9e9c72e24db"
      },
      "execution_count": null,
      "outputs": [
        {
          "output_type": "stream",
          "name": "stdout",
          "text": [
            "[[[121 144 144]\n",
            "  [144 225 144]]\n",
            "\n",
            " [[144   9 144]\n",
            "  [144 144 144]]]\n",
            "ааааа\n",
            "\n",
            "[[409 513]\n",
            " [297 432]]\n",
            "20.22288733810239\n"
          ]
        }
      ]
    },
    {
      "cell_type": "code",
      "source": [
        "import keras.backend as K\n",
        "\n",
        "def my_loss(y_true, y_pred, d):\n",
        "  y_coord = d[K.eval(K.argmax(y_true))] * 1000 \n",
        "  y_pred_coord = d[K.eval(K.argmax(y_pred))] *1000\n",
        "  loss = K.sqrt(K.sum(K.square(y_coord-y_pred_coord), axis = 2))\n",
        "  return loss\n",
        "\n",
        "def trick(d):\n",
        "  def loss(y_true, y_pred):\n",
        "    return my_loss(y_true, y_pred, d)\n",
        "  return loss"
      ],
      "metadata": {
        "id": "XF3DWWmZDGLv"
      },
      "execution_count": null,
      "outputs": []
    },
    {
      "cell_type": "code",
      "source": [
        "model = Sequential()\n",
        "model.add(SimpleRNN(15002, return_sequences=True, activation=\"softmax\"))\n",
        "model.compile(optimizer='Adam',\n",
        "loss=trick(d), run_eagerly=True)"
      ],
      "metadata": {
        "id": "qVu57axYyFoo"
      },
      "execution_count": null,
      "outputs": []
    },
    {
      "cell_type": "code",
      "source": [
        "model.fit(x, y, epochs=10)"
      ],
      "metadata": {
        "colab": {
          "base_uri": "https://localhost:8080/",
          "height": 484
        },
        "id": "nYkan9i2yGLH",
        "outputId": "4af5cfc4-b581-40db-9b93-c6278ae91b8e"
      },
      "execution_count": null,
      "outputs": [
        {
          "output_type": "stream",
          "name": "stdout",
          "text": [
            "Epoch 1/10\n"
          ]
        },
        {
          "output_type": "error",
          "ename": "InvalidArgumentError",
          "evalue": "ignored",
          "traceback": [
            "\u001b[0;31m---------------------------------------------------------------------------\u001b[0m",
            "\u001b[0;31mInvalidArgumentError\u001b[0m                      Traceback (most recent call last)",
            "\u001b[0;32m<ipython-input-30-367d9d9badb6>\u001b[0m in \u001b[0;36m<module>\u001b[0;34m()\u001b[0m\n\u001b[0;32m----> 1\u001b[0;31m \u001b[0mmodel\u001b[0m\u001b[0;34m.\u001b[0m\u001b[0mfit\u001b[0m\u001b[0;34m(\u001b[0m\u001b[0mx\u001b[0m\u001b[0;34m,\u001b[0m \u001b[0my\u001b[0m\u001b[0;34m,\u001b[0m \u001b[0mepochs\u001b[0m\u001b[0;34m=\u001b[0m\u001b[0;36m10\u001b[0m\u001b[0;34m)\u001b[0m\u001b[0;34m\u001b[0m\u001b[0;34m\u001b[0m\u001b[0m\n\u001b[0m",
            "\u001b[0;32m/usr/local/lib/python3.7/dist-packages/keras/utils/traceback_utils.py\u001b[0m in \u001b[0;36merror_handler\u001b[0;34m(*args, **kwargs)\u001b[0m\n\u001b[1;32m     65\u001b[0m     \u001b[0;32mexcept\u001b[0m \u001b[0mException\u001b[0m \u001b[0;32mas\u001b[0m \u001b[0me\u001b[0m\u001b[0;34m:\u001b[0m  \u001b[0;31m# pylint: disable=broad-except\u001b[0m\u001b[0;34m\u001b[0m\u001b[0;34m\u001b[0m\u001b[0m\n\u001b[1;32m     66\u001b[0m       \u001b[0mfiltered_tb\u001b[0m \u001b[0;34m=\u001b[0m \u001b[0m_process_traceback_frames\u001b[0m\u001b[0;34m(\u001b[0m\u001b[0me\u001b[0m\u001b[0;34m.\u001b[0m\u001b[0m__traceback__\u001b[0m\u001b[0;34m)\u001b[0m\u001b[0;34m\u001b[0m\u001b[0;34m\u001b[0m\u001b[0m\n\u001b[0;32m---> 67\u001b[0;31m       \u001b[0;32mraise\u001b[0m \u001b[0me\u001b[0m\u001b[0;34m.\u001b[0m\u001b[0mwith_traceback\u001b[0m\u001b[0;34m(\u001b[0m\u001b[0mfiltered_tb\u001b[0m\u001b[0;34m)\u001b[0m \u001b[0;32mfrom\u001b[0m \u001b[0;32mNone\u001b[0m\u001b[0;34m\u001b[0m\u001b[0;34m\u001b[0m\u001b[0m\n\u001b[0m\u001b[1;32m     68\u001b[0m     \u001b[0;32mfinally\u001b[0m\u001b[0;34m:\u001b[0m\u001b[0;34m\u001b[0m\u001b[0;34m\u001b[0m\u001b[0m\n\u001b[1;32m     69\u001b[0m       \u001b[0;32mdel\u001b[0m \u001b[0mfiltered_tb\u001b[0m\u001b[0;34m\u001b[0m\u001b[0;34m\u001b[0m\u001b[0m\n",
            "\u001b[0;32m/usr/local/lib/python3.7/dist-packages/keras/backend.py\u001b[0m in \u001b[0;36mdot\u001b[0;34m(x, y)\u001b[0m\n\u001b[1;32m   2221\u001b[0m     \u001b[0mout\u001b[0m \u001b[0;34m=\u001b[0m \u001b[0mtf\u001b[0m\u001b[0;34m.\u001b[0m\u001b[0msparse\u001b[0m\u001b[0;34m.\u001b[0m\u001b[0msparse_dense_matmul\u001b[0m\u001b[0;34m(\u001b[0m\u001b[0mx\u001b[0m\u001b[0;34m,\u001b[0m \u001b[0my\u001b[0m\u001b[0;34m)\u001b[0m\u001b[0;34m\u001b[0m\u001b[0;34m\u001b[0m\u001b[0m\n\u001b[1;32m   2222\u001b[0m   \u001b[0;32melse\u001b[0m\u001b[0;34m:\u001b[0m\u001b[0;34m\u001b[0m\u001b[0;34m\u001b[0m\u001b[0m\n\u001b[0;32m-> 2223\u001b[0;31m     \u001b[0mout\u001b[0m \u001b[0;34m=\u001b[0m \u001b[0mtf\u001b[0m\u001b[0;34m.\u001b[0m\u001b[0mmatmul\u001b[0m\u001b[0;34m(\u001b[0m\u001b[0mx\u001b[0m\u001b[0;34m,\u001b[0m \u001b[0my\u001b[0m\u001b[0;34m)\u001b[0m\u001b[0;34m\u001b[0m\u001b[0;34m\u001b[0m\u001b[0m\n\u001b[0m\u001b[1;32m   2224\u001b[0m   \u001b[0;32mreturn\u001b[0m \u001b[0mout\u001b[0m\u001b[0;34m\u001b[0m\u001b[0;34m\u001b[0m\u001b[0m\n\u001b[1;32m   2225\u001b[0m \u001b[0;34m\u001b[0m\u001b[0m\n",
            "\u001b[0;31mInvalidArgumentError\u001b[0m: Exception encountered when calling layer \"simple_rnn_cell_1\" (type SimpleRNNCell).\n\ncannot compute MatMul as input #1(zero-based) was expected to be a int64 tensor but is a float tensor [Op:MatMul]\n\nCall arguments received:\n  • inputs=tf.Tensor(shape=(2, 3), dtype=int64)\n  • states=('tf.Tensor(shape=(2, 15002), dtype=int64)',)\n  • training=True"
          ]
        }
      ]
    },
    {
      "cell_type": "code",
      "source": [
        "model.summary()"
      ],
      "metadata": {
        "colab": {
          "base_uri": "https://localhost:8080/"
        },
        "id": "JQ3NPSQs6bvI",
        "outputId": "80d10898-fe69-47aa-a9ac-7ccd32a085b5"
      },
      "execution_count": null,
      "outputs": [
        {
          "output_type": "stream",
          "name": "stdout",
          "text": [
            "Model: \"sequential_1\"\n",
            "_________________________________________________________________\n",
            " Layer (type)                Output Shape              Param #   \n",
            "=================================================================\n",
            " simple_rnn_1 (SimpleRNN)    (32, 4, 15002)            229665618 \n",
            "                                                                 \n",
            "=================================================================\n",
            "Total params: 229,665,618\n",
            "Trainable params: 229,665,618\n",
            "Non-trainable params: 0\n",
            "_________________________________________________________________\n"
          ]
        }
      ]
    },
    {
      "cell_type": "code",
      "source": [
        "test_x = np.load('/content/drive/MyDrive/data.T/testX.npy')\n",
        "test_y = np.load('/content/drive/MyDrive/data.T/testY.npy')"
      ],
      "metadata": {
        "id": "a328OIwoyKUU"
      },
      "execution_count": null,
      "outputs": []
    },
    {
      "cell_type": "code",
      "source": [
        "for i in range(250):\n",
        "    scaler = StandardScaler().fit(test_x[i])\n",
        "    test_x[i] = scaler.transform(test_x[i])"
      ],
      "metadata": {
        "id": "U7-PtPiTyK3a"
      },
      "execution_count": null,
      "outputs": []
    },
    {
      "cell_type": "code",
      "source": [
        "y_pred= model.predict(test_x)"
      ],
      "metadata": {
        "id": "lJO81yHiyO3C"
      },
      "execution_count": null,
      "outputs": []
    },
    {
      "cell_type": "code",
      "source": [
        "k1=[]\n",
        "k2=[]"
      ],
      "metadata": {
        "id": "yO6M-iOoyPjp"
      },
      "execution_count": null,
      "outputs": []
    },
    {
      "cell_type": "code",
      "source": [
        "n_dip = 123"
      ],
      "metadata": {
        "id": "TST9ViPbdL9j"
      },
      "execution_count": null,
      "outputs": []
    },
    {
      "cell_type": "code",
      "source": [
        "for j in range(4):\n",
        "  max = y_pred[n_dip][j][0]\n",
        "  for i in range(15002):\n",
        "    if y_pred[n_dip][j][i]>max:\n",
        "      max = y_pred[n_dip][j][i]\n",
        "      k = i\n",
        "  k1.append(k)\n",
        "  print(k)"
      ],
      "metadata": {
        "colab": {
          "base_uri": "https://localhost:8080/"
        },
        "id": "6WM_GiQzySXR",
        "outputId": "5b193cee-4686-4a85-d9fa-ec5e8ece4acd"
      },
      "execution_count": null,
      "outputs": [
        {
          "output_type": "stream",
          "name": "stdout",
          "text": [
            "13175\n",
            "12442\n",
            "12709\n",
            "12169\n"
          ]
        }
      ]
    },
    {
      "cell_type": "code",
      "source": [
        "for j in range(4):\n",
        "  max = test_y[n_dip][j][0]\n",
        "  for i in range(15002):\n",
        "    if test_y[n_dip][j][i]>max:\n",
        "      max = test_y[n_dip][j][i]\n",
        "      k = i\n",
        "  k2.append(k)\n",
        "  print(k)"
      ],
      "metadata": {
        "colab": {
          "base_uri": "https://localhost:8080/"
        },
        "id": "Uu_LsoiUyW1C",
        "outputId": "2547e27d-3bce-46df-9734-745ab2274d85"
      },
      "execution_count": null,
      "outputs": [
        {
          "output_type": "stream",
          "name": "stdout",
          "text": [
            "13175\n",
            "13057\n",
            "12754\n",
            "12718\n"
          ]
        }
      ]
    },
    {
      "cell_type": "code",
      "source": [
        "for i in range(4):\n",
        "  tr = d[k2[i]]\n",
        "  pr = d[k1[i]]\n",
        "  err = (((tr[0]-pr[0])*1000)**2+((tr[1]-pr[1])*1000)**2+((tr[2]-pr[2])*1000)**2)**(1/2)\n",
        "  print(err)"
      ],
      "metadata": {
        "colab": {
          "base_uri": "https://localhost:8080/"
        },
        "id": "B82Qiyaiyaw9",
        "outputId": "3f2f1eb2-eb45-4bfd-de91-e6fb17c2ae00"
      },
      "execution_count": null,
      "outputs": [
        {
          "output_type": "stream",
          "name": "stdout",
          "text": [
            "0.0\n",
            "17.903365409888725\n",
            "2.888309713309845\n",
            "15.506715480719958\n"
          ]
        }
      ]
    },
    {
      "cell_type": "code",
      "source": [
        "for i in range(3):\n",
        "  d1 = d[k1[i]]\n",
        "  d2 = d[k1[i+1]]\n",
        "  print(f'Между {i+1} и {i+2}')\n",
        "  err = (((d2[0]-d1[0])*1000)**2+((d2[1]-d1[1])*1000)**2+((d2[2]-d1[2])*1000)**2)**(1/2)\n",
        "  print(err)"
      ],
      "metadata": {
        "colab": {
          "base_uri": "https://localhost:8080/"
        },
        "id": "d_2zAFsZB7R3",
        "outputId": "31cb5fa2-6cb4-494c-dfae-a485ff9d7154"
      },
      "execution_count": null,
      "outputs": [
        {
          "output_type": "stream",
          "name": "stdout",
          "text": [
            "Между 1 и 2\n",
            "19.521415240704247\n",
            "Между 2 и 3\n",
            "19.36313079024154\n",
            "Между 3 и 4\n",
            "17.60251430904119\n"
          ]
        }
      ]
    },
    {
      "cell_type": "code",
      "source": [
        "err1 = []\n",
        "err2 = []\n",
        "for n_dip in range(len(test_y)):\n",
        "  k1=[]\n",
        "  k2=[]\n",
        "\n",
        "  for j in range(4):\n",
        "    max = y_pred[n_dip][j][0]\n",
        "    for i in range(15002):\n",
        "      if y_pred[n_dip][j][i]>max:\n",
        "        max = y_pred[n_dip][j][i]\n",
        "        k = i\n",
        "    k1.append(k)\n",
        "\n",
        "  for j in range(4):\n",
        "    max = test_y[n_dip][j][0]\n",
        "    for i in range(15002):\n",
        "      if test_y[n_dip][j][i]>max:\n",
        "        max = test_y[n_dip][j][i]\n",
        "        k = i\n",
        "    k2.append(k)\n",
        "  \n",
        "  for i in range(4):\n",
        "    tr = d[k2[i]]\n",
        "    pr = d[k1[i]]\n",
        "    err1.append((((tr[0]-pr[0])*1000)**2+((tr[1]-pr[1])*1000)**2+((tr[2]-pr[2])*1000)**2)**(1/2))\n",
        "\n",
        "  for i in range(3):\n",
        "    d1 = d[k1[i]]\n",
        "    d2 = d[k1[i+1]]\n",
        "    err2.append((((d2[0]-d1[0])*1000)**2+((d2[1]-d1[1])*1000)**2+((d2[2]-d1[2])*1000)**2)**(1/2))\n",
        "\n",
        "err1 = np.array( err1 )\n",
        "err2 = np.array( err2 )\n",
        "\n",
        "print(np.mean(err1))\n",
        "print(np.mean(err2))"
      ],
      "metadata": {
        "colab": {
          "base_uri": "https://localhost:8080/"
        },
        "id": "WectZm6sdj1x",
        "outputId": "88c38d81-585f-411f-e1d7-09e774282ac9"
      },
      "execution_count": null,
      "outputs": [
        {
          "output_type": "stream",
          "name": "stdout",
          "text": [
            "18.566256309933458\n",
            "27.625611260248416\n"
          ]
        }
      ]
    },
    {
      "cell_type": "code",
      "source": [
        "model.save('SimpleRNN1_ep10_bs32.h5') "
      ],
      "metadata": {
        "id": "FrVAtXEBcF6P"
      },
      "execution_count": null,
      "outputs": []
    }
  ]
}