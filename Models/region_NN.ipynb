{
  "nbformat": 4,
  "nbformat_minor": 0,
  "metadata": {
    "colab": {
      "provenance": [],
      "machine_shape": "hm"
    },
    "kernelspec": {
      "name": "python3",
      "display_name": "Python 3"
    },
    "language_info": {
      "name": "python"
    },
    "accelerator": "GPU",
    "gpuClass": "standard"
  },
  "cells": [
    {
      "cell_type": "code",
      "execution_count": null,
      "metadata": {
        "colab": {
          "base_uri": "https://localhost:8080/"
        },
        "id": "DjxrEuGxixo3",
        "outputId": "6e973e56-d637-4dbc-b638-e517d9308c87"
      },
      "outputs": [
        {
          "output_type": "stream",
          "name": "stdout",
          "text": [
            "Mounted at /content/drive\n"
          ]
        }
      ],
      "source": [
        "from google.colab import drive\n",
        "drive.mount('/content/drive')"
      ]
    },
    {
      "cell_type": "code",
      "source": [
        "import numpy as np\n",
        "from sklearn.preprocessing import StandardScaler"
      ],
      "metadata": {
        "id": "Jg_BI9DrlLjc"
      },
      "execution_count": null,
      "outputs": []
    },
    {
      "cell_type": "code",
      "source": [
        "x = np.load('/content/drive/MyDrive/data/Region/X_2dip.npy')\n",
        "y = np.load('/content/drive/MyDrive/data/Region/Y_2dip.npy')"
      ],
      "metadata": {
        "id": "PsV6noqglOVM"
      },
      "execution_count": null,
      "outputs": []
    },
    {
      "cell_type": "code",
      "source": [
        "x_test = np.load('/content/drive/MyDrive/data/Region/X_2dip_test.npy')\n",
        "y_test = np.load('/content/drive/MyDrive/data/Region/Y_2dip_test.npy')"
      ],
      "metadata": {
        "id": "4Hr129oHmmXb"
      },
      "execution_count": null,
      "outputs": []
    },
    {
      "cell_type": "code",
      "source": [
        "x[0].shape"
      ],
      "metadata": {
        "colab": {
          "base_uri": "https://localhost:8080/"
        },
        "id": "_hkRtI9F_XNy",
        "outputId": "499ac56c-3c3a-4f21-ebf4-78181a549d2f"
      },
      "execution_count": null,
      "outputs": [
        {
          "output_type": "execute_result",
          "data": {
            "text/plain": [
              "(10, 306)"
            ]
          },
          "metadata": {},
          "execution_count": 5
        }
      ]
    },
    {
      "cell_type": "code",
      "source": [
        "x_test[1]"
      ],
      "metadata": {
        "colab": {
          "base_uri": "https://localhost:8080/"
        },
        "id": "O3vQBocT_cGa",
        "outputId": "9d52abdb-afd4-46da-8bf7-1ab161703432"
      },
      "execution_count": null,
      "outputs": [
        {
          "output_type": "execute_result",
          "data": {
            "text/plain": [
              "array([[ 1.62562666e-19, -4.27099293e-19, -3.54439957e-20, ...,\n",
              "        -1.17312736e-18,  4.78010835e-19, -3.42677482e-20],\n",
              "       [-2.44235977e-19, -6.03643146e-19, -4.24058177e-20, ...,\n",
              "         8.17679355e-20,  4.87626535e-19, -7.12229590e-20],\n",
              "       [ 4.54385194e-20, -1.75786688e-18, -1.51282185e-19, ...,\n",
              "        -5.10600130e-18,  5.09452355e-19, -9.81624814e-20],\n",
              "       ...,\n",
              "       [-8.16305477e-19, -9.29516186e-21, -6.42689762e-20, ...,\n",
              "         1.84231272e-19, -4.40249054e-18,  2.24398751e-19],\n",
              "       [ 2.20387380e-18, -1.64647880e-18, -2.02664175e-19, ...,\n",
              "        -5.64413563e-18, -1.22819466e-17,  6.18176917e-19],\n",
              "       [ 2.67417644e-18, -4.14178967e-18, -3.49143274e-19, ...,\n",
              "        -8.34722433e-18, -1.17076394e-17,  3.64994996e-19]])"
            ]
          },
          "metadata": {},
          "execution_count": 6
        }
      ]
    },
    {
      "cell_type": "code",
      "source": [
        "d = np.genfromtxt('/content/drive/MyDrive/data/Vert.csv', delimiter = ',')\n",
        "d = d[1:]"
      ],
      "metadata": {
        "id": "5UWokB_Am7KP"
      },
      "execution_count": null,
      "outputs": []
    },
    {
      "cell_type": "code",
      "source": [
        "d"
      ],
      "metadata": {
        "id": "yvXjYNMQXxSn",
        "outputId": "440254b8-eea4-4c5d-bf62-c91a37e89ac9",
        "colab": {
          "base_uri": "https://localhost:8080/"
        }
      },
      "execution_count": null,
      "outputs": [
        {
          "output_type": "execute_result",
          "data": {
            "text/plain": [
              "array([[-0.080401 ,  0.015848 ,  0.052857 ],\n",
              "       [-0.080093 ,  0.0068873,  0.05685  ],\n",
              "       [-0.080343 ,  0.012273 ,  0.053598 ],\n",
              "       ...,\n",
              "       [ 0.099568 , -0.006685 ,  0.045418 ],\n",
              "       [ 0.10013  , -0.008073 ,  0.040438 ],\n",
              "       [ 0.10041  , -0.010011 ,  0.048022 ]])"
            ]
          },
          "metadata": {},
          "execution_count": 8
        }
      ]
    },
    {
      "cell_type": "code",
      "source": [
        "for i in range(x.shape[0]):\n",
        "    scaler = StandardScaler().fit(x[i])\n",
        "    x[i] = scaler.transform(x[i])\n",
        "\n",
        "for i in range(x_test.shape[0]):\n",
        "    scaler = StandardScaler().fit(x_test[i])\n",
        "    x_test[i] = scaler.transform(x_test[i])"
      ],
      "metadata": {
        "id": "ib_FBRIfnCN4"
      },
      "execution_count": null,
      "outputs": []
    },
    {
      "cell_type": "code",
      "source": [
        "print(x.shape)\n",
        "print(y.shape)"
      ],
      "metadata": {
        "colab": {
          "base_uri": "https://localhost:8080/"
        },
        "id": "KLkG5uuxq5Dd",
        "outputId": "3bfc56e9-be3c-4010-bf03-0b26b7109126"
      },
      "execution_count": null,
      "outputs": [
        {
          "output_type": "stream",
          "name": "stdout",
          "text": [
            "(3150, 10, 306)\n",
            "(3150, 10, 45)\n"
          ]
        }
      ]
    },
    {
      "cell_type": "code",
      "source": [
        "print(x_test.shape)\n",
        "print(y_test.shape)"
      ],
      "metadata": {
        "colab": {
          "base_uri": "https://localhost:8080/"
        },
        "id": "4THPAl7TXG7b",
        "outputId": "1c83cf75-bee7-4e0b-e71b-1da63a964ac7"
      },
      "execution_count": null,
      "outputs": [
        {
          "output_type": "stream",
          "name": "stdout",
          "text": [
            "(250, 10, 306)\n",
            "(250, 10, 45)\n"
          ]
        }
      ]
    },
    {
      "cell_type": "code",
      "source": [
        "from keras.models import Sequential\n",
        "from keras.layers import Dense\n",
        "from keras.layers import LSTM\n",
        "from keras.layers import GRU\n",
        "from keras.layers import SimpleRNN\n",
        "from keras.losses import CategoricalCrossentropy\n",
        "from keras.losses import BinaryCrossentropy\n",
        "from keras.metrics import CategoricalAccuracy\n",
        "from keras.metrics import BinaryAccuracy\n",
        "from matplotlib import pyplot as plt"
      ],
      "metadata": {
        "id": "axfLY76unWjJ"
      },
      "execution_count": null,
      "outputs": []
    },
    {
      "cell_type": "code",
      "source": [
        "model = Sequential()\n",
        "model.add(SimpleRNN(y.shape[2], return_sequences=True, activation=\"sigmoid\"))\n",
        "model.compile(optimizer='Adam', loss='binary_crossentropy')"
      ],
      "metadata": {
        "id": "nNOFWjkkqRfg"
      },
      "execution_count": null,
      "outputs": []
    },
    {
      "cell_type": "code",
      "source": [
        "history = model.fit(x, y, epochs = 100)"
      ],
      "metadata": {
        "colab": {
          "base_uri": "https://localhost:8080/"
        },
        "id": "LwqRN4a3qrrR",
        "outputId": "bd64ee35-7c46-48af-d862-1ecc2b806ad5"
      },
      "execution_count": null,
      "outputs": [
        {
          "output_type": "stream",
          "name": "stdout",
          "text": [
            "Epoch 1/100\n",
            "99/99 [==============================] - 6s 8ms/step - loss: 0.5196\n",
            "Epoch 2/100\n",
            "99/99 [==============================] - 1s 8ms/step - loss: 0.4058\n",
            "Epoch 3/100\n",
            "99/99 [==============================] - 1s 8ms/step - loss: 0.3756\n",
            "Epoch 4/100\n",
            "99/99 [==============================] - 1s 8ms/step - loss: 0.3568\n",
            "Epoch 5/100\n",
            "99/99 [==============================] - 1s 11ms/step - loss: 0.3425\n",
            "Epoch 6/100\n",
            "99/99 [==============================] - 2s 16ms/step - loss: 0.3299\n",
            "Epoch 7/100\n",
            "99/99 [==============================] - 1s 13ms/step - loss: 0.3188\n",
            "Epoch 8/100\n",
            "99/99 [==============================] - 1s 12ms/step - loss: 0.3084\n",
            "Epoch 9/100\n",
            "99/99 [==============================] - 1s 10ms/step - loss: 0.2988\n",
            "Epoch 10/100\n",
            "99/99 [==============================] - 1s 10ms/step - loss: 0.2893\n",
            "Epoch 11/100\n",
            "99/99 [==============================] - 1s 11ms/step - loss: 0.2799\n",
            "Epoch 12/100\n",
            "99/99 [==============================] - 1s 10ms/step - loss: 0.2707\n",
            "Epoch 13/100\n",
            "99/99 [==============================] - 1s 8ms/step - loss: 0.2611\n",
            "Epoch 14/100\n",
            "99/99 [==============================] - 1s 8ms/step - loss: 0.2510\n",
            "Epoch 15/100\n",
            "99/99 [==============================] - 1s 8ms/step - loss: 0.2403\n",
            "Epoch 16/100\n",
            "99/99 [==============================] - 1s 8ms/step - loss: 0.2306\n",
            "Epoch 17/100\n",
            "99/99 [==============================] - 1s 8ms/step - loss: 0.2231\n",
            "Epoch 18/100\n",
            "99/99 [==============================] - 1s 8ms/step - loss: 0.2155\n",
            "Epoch 19/100\n",
            "99/99 [==============================] - 1s 9ms/step - loss: 0.2087\n",
            "Epoch 20/100\n",
            "99/99 [==============================] - 1s 9ms/step - loss: 0.2026\n",
            "Epoch 21/100\n",
            "99/99 [==============================] - 1s 9ms/step - loss: 0.1964\n",
            "Epoch 22/100\n",
            "99/99 [==============================] - 1s 8ms/step - loss: 0.1914\n",
            "Epoch 23/100\n",
            "99/99 [==============================] - 1s 8ms/step - loss: 0.1875\n",
            "Epoch 24/100\n",
            "99/99 [==============================] - 1s 8ms/step - loss: 0.1835\n",
            "Epoch 25/100\n",
            "99/99 [==============================] - 1s 8ms/step - loss: 0.1809\n",
            "Epoch 26/100\n",
            "99/99 [==============================] - 1s 8ms/step - loss: 0.1785\n",
            "Epoch 27/100\n",
            "99/99 [==============================] - 1s 8ms/step - loss: 0.1752\n",
            "Epoch 28/100\n",
            "99/99 [==============================] - 1s 8ms/step - loss: 0.1726\n",
            "Epoch 29/100\n",
            "99/99 [==============================] - 1s 8ms/step - loss: 0.1707\n",
            "Epoch 30/100\n",
            "99/99 [==============================] - 1s 8ms/step - loss: 0.1683\n",
            "Epoch 31/100\n",
            "99/99 [==============================] - 1s 8ms/step - loss: 0.1662\n",
            "Epoch 32/100\n",
            "99/99 [==============================] - 1s 8ms/step - loss: 0.1642\n",
            "Epoch 33/100\n",
            "99/99 [==============================] - 1s 8ms/step - loss: 0.1627\n",
            "Epoch 34/100\n",
            "99/99 [==============================] - 1s 8ms/step - loss: 0.1602\n",
            "Epoch 35/100\n",
            "99/99 [==============================] - 1s 9ms/step - loss: 0.1581\n",
            "Epoch 36/100\n",
            "99/99 [==============================] - 1s 9ms/step - loss: 0.1564\n",
            "Epoch 37/100\n",
            "99/99 [==============================] - 1s 9ms/step - loss: 0.1546\n",
            "Epoch 38/100\n",
            "99/99 [==============================] - 1s 8ms/step - loss: 0.1538\n",
            "Epoch 39/100\n",
            "99/99 [==============================] - 1s 8ms/step - loss: 0.1520\n",
            "Epoch 40/100\n",
            "99/99 [==============================] - 1s 8ms/step - loss: 0.1497\n",
            "Epoch 41/100\n",
            "99/99 [==============================] - 1s 8ms/step - loss: 0.1483\n",
            "Epoch 42/100\n",
            "99/99 [==============================] - 1s 8ms/step - loss: 0.1468\n",
            "Epoch 43/100\n",
            "99/99 [==============================] - 1s 8ms/step - loss: 0.1464\n",
            "Epoch 44/100\n",
            "99/99 [==============================] - 1s 8ms/step - loss: 0.1441\n",
            "Epoch 45/100\n",
            "99/99 [==============================] - 1s 8ms/step - loss: 0.1418\n",
            "Epoch 46/100\n",
            "99/99 [==============================] - 1s 8ms/step - loss: 0.1409\n",
            "Epoch 47/100\n",
            "99/99 [==============================] - 1s 8ms/step - loss: 0.1396\n",
            "Epoch 48/100\n",
            "99/99 [==============================] - 1s 8ms/step - loss: 0.1381\n",
            "Epoch 49/100\n",
            "99/99 [==============================] - 1s 8ms/step - loss: 0.1369\n",
            "Epoch 50/100\n",
            "99/99 [==============================] - 1s 8ms/step - loss: 0.1352\n",
            "Epoch 51/100\n",
            "99/99 [==============================] - 1s 9ms/step - loss: 0.1347\n",
            "Epoch 52/100\n",
            "99/99 [==============================] - 1s 9ms/step - loss: 0.1331\n",
            "Epoch 53/100\n",
            "99/99 [==============================] - 1s 9ms/step - loss: 0.1315\n",
            "Epoch 54/100\n",
            "99/99 [==============================] - 1s 8ms/step - loss: 0.1305\n",
            "Epoch 55/100\n",
            "99/99 [==============================] - 1s 8ms/step - loss: 0.1294\n",
            "Epoch 56/100\n",
            "99/99 [==============================] - 1s 8ms/step - loss: 0.1283\n",
            "Epoch 57/100\n",
            "99/99 [==============================] - 1s 8ms/step - loss: 0.1270\n",
            "Epoch 58/100\n",
            "99/99 [==============================] - 1s 8ms/step - loss: 0.1260\n",
            "Epoch 59/100\n",
            "99/99 [==============================] - 1s 8ms/step - loss: 0.1248\n",
            "Epoch 60/100\n",
            "99/99 [==============================] - 1s 8ms/step - loss: 0.1240\n",
            "Epoch 61/100\n",
            "99/99 [==============================] - 1s 8ms/step - loss: 0.1229\n",
            "Epoch 62/100\n",
            "99/99 [==============================] - 1s 8ms/step - loss: 0.1214\n",
            "Epoch 63/100\n",
            "99/99 [==============================] - 1s 8ms/step - loss: 0.1208\n",
            "Epoch 64/100\n",
            "99/99 [==============================] - 1s 8ms/step - loss: 0.1211\n",
            "Epoch 65/100\n",
            "99/99 [==============================] - 1s 8ms/step - loss: 0.1191\n",
            "Epoch 66/100\n",
            "99/99 [==============================] - 1s 9ms/step - loss: 0.1180\n",
            "Epoch 67/100\n",
            "99/99 [==============================] - 1s 10ms/step - loss: 0.1178\n",
            "Epoch 68/100\n",
            "99/99 [==============================] - 1s 9ms/step - loss: 0.1161\n",
            "Epoch 69/100\n",
            "99/99 [==============================] - 1s 9ms/step - loss: 0.1152\n",
            "Epoch 70/100\n",
            "99/99 [==============================] - 1s 8ms/step - loss: 0.1147\n",
            "Epoch 71/100\n",
            "99/99 [==============================] - 1s 8ms/step - loss: 0.1135\n",
            "Epoch 72/100\n",
            "99/99 [==============================] - 1s 8ms/step - loss: 0.1127\n",
            "Epoch 73/100\n",
            "99/99 [==============================] - 1s 8ms/step - loss: 0.1118\n",
            "Epoch 74/100\n",
            "99/99 [==============================] - 1s 8ms/step - loss: 0.1113\n",
            "Epoch 75/100\n",
            "99/99 [==============================] - 1s 8ms/step - loss: 0.1104\n",
            "Epoch 76/100\n",
            "99/99 [==============================] - 1s 8ms/step - loss: 0.1094\n",
            "Epoch 77/100\n",
            "99/99 [==============================] - 1s 8ms/step - loss: 0.1089\n",
            "Epoch 78/100\n",
            "99/99 [==============================] - 1s 8ms/step - loss: 0.1100\n",
            "Epoch 79/100\n",
            "99/99 [==============================] - 1s 8ms/step - loss: 0.1072\n",
            "Epoch 80/100\n",
            "99/99 [==============================] - 1s 8ms/step - loss: 0.1069\n",
            "Epoch 81/100\n",
            "99/99 [==============================] - 1s 8ms/step - loss: 0.1060\n",
            "Epoch 82/100\n",
            "99/99 [==============================] - 1s 8ms/step - loss: 0.1055\n",
            "Epoch 83/100\n",
            "99/99 [==============================] - 1s 9ms/step - loss: 0.1048\n",
            "Epoch 84/100\n",
            "99/99 [==============================] - 1s 9ms/step - loss: 0.1041\n",
            "Epoch 85/100\n",
            "99/99 [==============================] - 1s 9ms/step - loss: 0.1036\n",
            "Epoch 86/100\n",
            "99/99 [==============================] - 1s 8ms/step - loss: 0.1026\n",
            "Epoch 87/100\n",
            "99/99 [==============================] - 1s 8ms/step - loss: 0.1022\n",
            "Epoch 88/100\n",
            "99/99 [==============================] - 1s 8ms/step - loss: 0.1017\n",
            "Epoch 89/100\n",
            "99/99 [==============================] - 1s 8ms/step - loss: 0.1010\n",
            "Epoch 90/100\n",
            "99/99 [==============================] - 1s 8ms/step - loss: 0.1012\n",
            "Epoch 91/100\n",
            "99/99 [==============================] - 1s 8ms/step - loss: 0.1001\n",
            "Epoch 92/100\n",
            "99/99 [==============================] - 1s 9ms/step - loss: 0.0997\n",
            "Epoch 93/100\n",
            "99/99 [==============================] - 1s 9ms/step - loss: 0.0994\n",
            "Epoch 94/100\n",
            "99/99 [==============================] - 1s 8ms/step - loss: 0.0986\n",
            "Epoch 95/100\n",
            "99/99 [==============================] - 1s 8ms/step - loss: 0.0979\n",
            "Epoch 96/100\n",
            "99/99 [==============================] - 1s 8ms/step - loss: 0.0977\n",
            "Epoch 97/100\n",
            "99/99 [==============================] - 1s 8ms/step - loss: 0.0969\n",
            "Epoch 98/100\n",
            "99/99 [==============================] - 1s 9ms/step - loss: 0.0964\n",
            "Epoch 99/100\n",
            "99/99 [==============================] - 1s 9ms/step - loss: 0.0962\n",
            "Epoch 100/100\n",
            "99/99 [==============================] - 1s 9ms/step - loss: 0.0957\n"
          ]
        }
      ]
    },
    {
      "cell_type": "code",
      "source": [
        "model.summary()"
      ],
      "metadata": {
        "colab": {
          "base_uri": "https://localhost:8080/"
        },
        "id": "vabhmbrhIzsc",
        "outputId": "8ea8ff27-d572-4e9c-eaf5-6e574b53df29"
      },
      "execution_count": null,
      "outputs": [
        {
          "output_type": "stream",
          "name": "stdout",
          "text": [
            "Model: \"sequential\"\n",
            "_________________________________________________________________\n",
            " Layer (type)                Output Shape              Param #   \n",
            "=================================================================\n",
            " simple_rnn (SimpleRNN)      (None, 10, 45)            15840     \n",
            "                                                                 \n",
            "=================================================================\n",
            "Total params: 15,840\n",
            "Trainable params: 15,840\n",
            "Non-trainable params: 0\n",
            "_________________________________________________________________\n"
          ]
        }
      ]
    },
    {
      "cell_type": "code",
      "source": [
        "plt.plot(history.history['loss'])\n",
        "plt.title('model loss')\n",
        "plt.ylabel('Binary Crossentropy')\n",
        "plt.xlabel('epoches')\n",
        "#plt.legend(['train', 'val'], loc='upper right')\n",
        "plt.show()"
      ],
      "metadata": {
        "colab": {
          "base_uri": "https://localhost:8080/",
          "height": 295
        },
        "id": "-eeyMM4QB-Nk",
        "outputId": "09193dd6-874a-4c6d-81c9-c7bc7edd0661"
      },
      "execution_count": null,
      "outputs": [
        {
          "output_type": "display_data",
          "data": {
            "text/plain": [
              "<Figure size 432x288 with 1 Axes>"
            ],
            "image/png": "[encoded data removed]"
          },
          "metadata": {
            "needs_background": "light"
          }
        }
      ]
    },
    {
      "cell_type": "code",
      "source": [
        "y_pred= model.predict(x_test)"
      ],
      "metadata": {
        "colab": {
          "base_uri": "https://localhost:8080/"
        },
        "id": "rnSRRFA4qveV",
        "outputId": "12440d8d-3926-4d2a-89a0-db9e290a8ee4"
      },
      "execution_count": null,
      "outputs": [
        {
          "output_type": "stream",
          "name": "stdout",
          "text": [
            "8/8 [==============================] - 0s 3ms/step\n"
          ]
        }
      ]
    },
    {
      "cell_type": "code",
      "source": [
        "y_pred[32][9].round().nonzero()"
      ],
      "metadata": {
        "colab": {
          "base_uri": "https://localhost:8080/"
        },
        "id": "A3TYHX3lzhwE",
        "outputId": "d6d08fe8-6aa8-4297-8af9-d57c6d434919"
      },
      "execution_count": null,
      "outputs": [
        {
          "output_type": "execute_result",
          "data": {
            "text/plain": [
              "(array([ 7,  9, 10, 11, 12, 13, 14, 15, 16, 17, 18, 19, 20, 21, 22, 23, 24,\n",
              "        25, 26, 27, 28, 29, 30, 31, 32, 33, 35, 37, 44]),)"
            ]
          },
          "metadata": {},
          "execution_count": 78
        }
      ]
    },
    {
      "cell_type": "code",
      "source": [
        "y_test[32][9].nonzero()"
      ],
      "metadata": {
        "colab": {
          "base_uri": "https://localhost:8080/"
        },
        "id": "qj-pt2YgpwTn",
        "outputId": "050f36c7-6bf8-4090-a086-37299a110ecc"
      },
      "execution_count": null,
      "outputs": [
        {
          "output_type": "execute_result",
          "data": {
            "text/plain": [
              "(array([ 1,  5,  6,  7,  9, 10, 11, 12, 13, 14, 15, 16, 17, 18, 19, 20, 21,\n",
              "        22, 23, 24, 25, 26, 27, 28, 29, 30, 31, 32, 33, 34, 35, 36, 37, 42,\n",
              "        44]),)"
            ]
          },
          "metadata": {},
          "execution_count": 79
        }
      ]
    },
    {
      "cell_type": "code",
      "source": [
        "y_pred[32][6].round().argmax()"
      ],
      "metadata": {
        "colab": {
          "base_uri": "https://localhost:8080/"
        },
        "id": "CYjIxqI1p1iX",
        "outputId": "d741723c-fd73-43ec-c398-e4666fc274d1"
      },
      "execution_count": null,
      "outputs": [
        {
          "output_type": "execute_result",
          "data": {
            "text/plain": [
              "10"
            ]
          },
          "metadata": {},
          "execution_count": 80
        }
      ]
    },
    {
      "cell_type": "code",
      "source": [
        "y_test[32][6].argmax()"
      ],
      "metadata": {
        "colab": {
          "base_uri": "https://localhost:8080/"
        },
        "id": "26UtCZ6JzyBj",
        "outputId": "c562f210-7b88-4f56-a435-17f275f83d60"
      },
      "execution_count": null,
      "outputs": [
        {
          "output_type": "execute_result",
          "data": {
            "text/plain": [
              "10"
            ]
          },
          "metadata": {},
          "execution_count": 81
        }
      ]
    },
    {
      "cell_type": "code",
      "source": [
        "m = CategoricalAccuracy()\n",
        "m.update_state(y_test, y_pred)\n",
        "m.result().numpy()"
      ],
      "metadata": {
        "colab": {
          "base_uri": "https://localhost:8080/"
        },
        "id": "rMWJ0HYhrjGl",
        "outputId": "5605de9f-46cb-4629-ae4a-2c82d764fee8"
      },
      "execution_count": null,
      "outputs": [
        {
          "output_type": "execute_result",
          "data": {
            "text/plain": [
              "0.2752"
            ]
          },
          "metadata": {},
          "execution_count": 82
        }
      ]
    },
    {
      "cell_type": "code",
      "source": [
        "m = BinaryAccuracy()\n",
        "m.update_state(y_test, y_pred)\n",
        "m.result().numpy()"
      ],
      "metadata": {
        "colab": {
          "base_uri": "https://localhost:8080/"
        },
        "id": "njqCdv_CbNk9",
        "outputId": "001a4b8e-ba74-4abb-b364-46398e5ce8e8"
      },
      "execution_count": null,
      "outputs": [
        {
          "output_type": "execute_result",
          "data": {
            "text/plain": [
              "0.9486222"
            ]
          },
          "metadata": {},
          "execution_count": 83
        }
      ]
    },
    {
      "cell_type": "code",
      "source": [
        "y_pred[0]"
      ],
      "metadata": {
        "colab": {
          "base_uri": "https://localhost:8080/"
        },
        "id": "_FZGEyuxFVxD",
        "outputId": "69b2492f-f0df-4647-9fb1-1580f3a343f7"
      },
      "execution_count": null,
      "outputs": [
        {
          "output_type": "execute_result",
          "data": {
            "text/plain": [
              "array([[4.36641416e-03, 2.44048284e-03, 2.81397207e-03, 5.75010316e-04,\n",
              "        4.24978184e-03, 1.21362805e-02, 2.21070722e-02, 2.65401565e-02,\n",
              "        7.44773773e-04, 8.62989575e-03, 2.99688824e-03, 4.17109625e-03,\n",
              "        1.88923464e-03, 7.52331913e-02, 3.36682517e-03, 1.23119084e-02,\n",
              "        3.87033075e-02, 2.53919000e-03, 3.50377001e-02, 1.23273302e-02,\n",
              "        2.01867521e-02, 1.66492555e-02, 4.96859737e-02, 1.75861642e-02,\n",
              "        8.60970933e-03, 8.40551406e-03, 1.58458918e-01, 1.59604624e-02,\n",
              "        1.95426922e-02, 3.67657505e-02, 4.95520011e-02, 9.86515582e-02,\n",
              "        8.06092471e-02, 8.32838193e-02, 2.68200506e-02, 2.80584325e-03,\n",
              "        5.96853299e-03, 6.30705792e-04, 8.94996617e-03, 4.15205583e-03,\n",
              "        7.32543087e-03, 1.95659641e-02, 2.26752907e-02, 5.12996558e-05,\n",
              "        5.73190115e-02],\n",
              "       [1.02660675e-02, 3.39974798e-02, 1.66058575e-03, 7.68273463e-03,\n",
              "        1.08523797e-02, 5.33138923e-02, 8.10819853e-04, 1.75177958e-02,\n",
              "        1.28513097e-03, 1.04176253e-02, 4.11942750e-02, 5.78708164e-02,\n",
              "        4.19285789e-04, 9.39736981e-03, 1.00715570e-02, 9.93421394e-03,\n",
              "        6.99719638e-02, 1.95012148e-03, 4.44993414e-02, 7.26277754e-02,\n",
              "        8.08216333e-02, 1.68337990e-02, 1.17344797e-01, 1.27777318e-02,\n",
              "        1.81669835e-02, 3.23338178e-03, 6.67224601e-02, 1.18436806e-01,\n",
              "        2.88126677e-01, 4.11807984e-01, 9.29141883e-03, 1.30965069e-01,\n",
              "        2.52942592e-01, 4.72122133e-02, 7.35119656e-02, 7.88152311e-03,\n",
              "        5.23003982e-03, 2.61960994e-03, 2.07460336e-02, 4.32216041e-02,\n",
              "        5.17508062e-03, 6.58786157e-03, 3.84421460e-03, 2.12665647e-03,\n",
              "        3.60992514e-02],\n",
              "       [4.62821079e-03, 3.42440745e-03, 1.96965132e-03, 8.12510261e-04,\n",
              "        2.28577550e-03, 4.94516231e-02, 1.01031922e-02, 1.57112870e-02,\n",
              "        8.04603682e-04, 7.21020764e-03, 5.22934534e-02, 6.44198945e-03,\n",
              "        1.01882557e-03, 2.03605909e-02, 1.54564215e-03, 1.16730779e-02,\n",
              "        3.68504971e-02, 3.33441817e-03, 1.42077670e-01, 4.08857651e-02,\n",
              "        6.27183765e-02, 1.70582645e-02, 6.73589557e-02, 2.14904603e-02,\n",
              "        6.33323891e-03, 9.82004032e-03, 2.28837207e-02, 1.90589264e-01,\n",
              "        1.81591243e-01, 7.83046782e-01, 3.26869249e-01, 1.04263276e-01,\n",
              "        5.32766700e-01, 4.77191247e-02, 1.35586672e-02, 3.64372954e-02,\n",
              "        2.03003120e-02, 1.68563370e-02, 1.67343821e-02, 3.23803350e-02,\n",
              "        8.34710989e-03, 7.84343760e-03, 8.33423284e-04, 1.25728792e-03,\n",
              "        6.34278804e-02],\n",
              "       [8.79818224e-04, 6.12270902e-04, 2.69401399e-03, 4.13674978e-04,\n",
              "        1.95364308e-04, 3.29445116e-02, 1.20578427e-03, 1.52567793e-02,\n",
              "        5.51840814e-04, 4.27340111e-03, 1.21196315e-01, 6.95052557e-03,\n",
              "        9.90897650e-04, 1.63094215e-02, 3.36765428e-04, 6.72616437e-03,\n",
              "        2.05742233e-02, 3.04937130e-03, 6.22640401e-02, 5.16978651e-02,\n",
              "        5.18294610e-02, 8.51370452e-04, 2.64655389e-02, 6.38360679e-02,\n",
              "        6.69193780e-03, 3.07092741e-02, 2.46610655e-03, 4.92589265e-01,\n",
              "        6.51923537e-01, 8.26969981e-01, 5.05750656e-01, 1.24373347e-01,\n",
              "        6.94299340e-01, 6.79026991e-02, 3.36495065e-03, 3.28159891e-02,\n",
              "        7.55509268e-03, 9.27653983e-02, 1.09282425e-02, 1.65567026e-02,\n",
              "        9.56141762e-03, 7.17963092e-03, 1.88655642e-04, 4.21560049e-04,\n",
              "        1.89800523e-02],\n",
              "       [2.09507416e-03, 8.98205850e-04, 9.64684598e-03, 1.07690529e-03,\n",
              "        1.25470135e-04, 2.93889046e-02, 1.40559708e-03, 1.85773335e-02,\n",
              "        5.44653041e-04, 4.17697392e-02, 7.51495012e-04, 2.22330214e-03,\n",
              "        1.52022822e-03, 5.33493645e-02, 4.60491079e-04, 1.34377331e-02,\n",
              "        4.12247330e-02, 4.19713408e-02, 3.46605033e-02, 4.68525626e-02,\n",
              "        4.16742899e-02, 1.33258785e-04, 1.72651578e-02, 3.38231325e-01,\n",
              "        8.73846173e-01, 8.48786533e-01, 1.64185800e-02, 7.42754698e-01,\n",
              "        5.10862350e-01, 4.52119291e-01, 4.70842332e-01, 3.57379407e-01,\n",
              "        6.95302486e-01, 5.20934574e-02, 4.31891438e-03, 4.29178208e-01,\n",
              "        7.36659998e-03, 4.33342636e-01, 1.83673948e-02, 1.02564669e-03,\n",
              "        2.12593582e-02, 2.01219041e-03, 1.18517324e-04, 1.69772160e-04,\n",
              "        6.32137014e-03],\n",
              "       [5.81245404e-03, 3.63660678e-02, 3.27753881e-03, 6.98498567e-04,\n",
              "        4.25458886e-03, 1.61270145e-02, 3.16960318e-03, 9.31243598e-03,\n",
              "        1.30535802e-03, 5.42453863e-02, 9.72713470e-01, 3.52756344e-02,\n",
              "        6.08226797e-03, 5.35609759e-02, 3.73688107e-03, 6.26477063e-01,\n",
              "        1.80082899e-02, 8.70208204e-01, 3.55484858e-02, 9.13055897e-01,\n",
              "        6.17097355e-02, 1.73521694e-03, 2.54459649e-01, 3.03131193e-01,\n",
              "        3.00361514e-01, 8.27799737e-01, 4.34648618e-03, 7.55417645e-01,\n",
              "        6.64018154e-01, 6.21074557e-01, 5.67996144e-01, 2.00907096e-01,\n",
              "        8.72084498e-01, 5.93054704e-02, 4.75219972e-02, 6.07536376e-01,\n",
              "        8.18922883e-04, 9.81990874e-01, 1.63234286e-02, 1.11797024e-02,\n",
              "        3.11426651e-02, 9.33394651e-04, 6.86242104e-01, 3.85389850e-03,\n",
              "        2.16358341e-02],\n",
              "       [2.02512983e-02, 8.58214963e-03, 1.25075493e-03, 2.83544860e-03,\n",
              "        1.03145640e-03, 2.61594765e-02, 1.00031393e-02, 2.42392696e-03,\n",
              "        8.62881914e-03, 2.97366083e-01, 9.94652867e-01, 8.63844715e-03,\n",
              "        9.38655376e-01, 5.52264988e-01, 1.16267451e-03, 9.98934805e-01,\n",
              "        1.83757432e-02, 6.48831189e-01, 5.84777556e-02, 9.91794169e-01,\n",
              "        4.70099822e-02, 1.24420249e-03, 3.60831648e-01, 9.24423277e-01,\n",
              "        9.79525328e-01, 9.98822033e-01, 4.89288121e-01, 9.97689605e-01,\n",
              "        9.69407618e-01, 9.82380748e-01, 9.83653843e-01, 2.14728832e-01,\n",
              "        9.71293449e-01, 1.45831481e-01, 6.39462590e-01, 7.83379853e-01,\n",
              "        5.87694522e-04, 2.21239686e-01, 5.11823874e-03, 1.59821659e-02,\n",
              "        1.23340730e-02, 2.07713097e-01, 9.52566266e-01, 1.12354988e-04,\n",
              "        4.09223959e-02],\n",
              "       [6.18563127e-03, 2.18917318e-02, 1.04739495e-01, 3.40997102e-03,\n",
              "        8.57214272e-01, 1.04715623e-01, 5.62891772e-04, 2.16599507e-03,\n",
              "        1.03278263e-02, 6.69512391e-01, 9.98924673e-01, 7.83746839e-01,\n",
              "        7.68852890e-01, 9.73740757e-01, 3.61985415e-02, 9.99918461e-01,\n",
              "        7.23398149e-01, 8.49326015e-01, 9.45073783e-01, 9.98195827e-01,\n",
              "        2.69192103e-02, 3.14058028e-02, 9.24879789e-01, 7.65353620e-01,\n",
              "        9.98739541e-01, 9.99584973e-01, 2.37299323e-01, 9.98613119e-01,\n",
              "        9.93163884e-01, 9.99995351e-01, 9.80940998e-01, 2.84592569e-01,\n",
              "        9.99962687e-01, 7.10913897e-01, 7.94505775e-01, 5.72244585e-01,\n",
              "        9.83358204e-01, 9.99400973e-01, 5.53472620e-03, 8.49915922e-01,\n",
              "        9.33910549e-01, 9.39828873e-01, 5.78494631e-02, 1.86764912e-04,\n",
              "        5.66510975e-01],\n",
              "       [1.08349009e-03, 1.69994531e-03, 1.20759392e-02, 9.51097310e-01,\n",
              "        3.97050940e-02, 2.09565133e-01, 1.54880146e-02, 8.68124425e-01,\n",
              "        6.92142487e-01, 5.23496985e-01, 9.95992601e-01, 9.87286747e-01,\n",
              "        9.90097404e-01, 9.75980282e-01, 9.94156122e-01, 9.21183884e-01,\n",
              "        2.46209040e-01, 9.75414634e-01, 3.52064669e-01, 9.99801695e-01,\n",
              "        8.84268343e-01, 9.07629311e-01, 8.72993827e-01, 9.90142584e-01,\n",
              "        9.95256960e-01, 9.91737306e-01, 8.59094262e-01, 9.99385834e-01,\n",
              "        9.99027848e-01, 9.99506712e-01, 9.27467704e-01, 4.44342971e-01,\n",
              "        9.99919653e-01, 2.41471782e-01, 9.88000691e-01, 7.83482015e-01,\n",
              "        9.77091491e-01, 9.91558433e-01, 3.63653414e-02, 7.82730997e-01,\n",
              "        9.85792041e-01, 9.10405934e-01, 9.27747667e-01, 8.87402058e-01,\n",
              "        7.28080750e-01],\n",
              "       [5.16188920e-01, 1.40700955e-02, 5.35491807e-03, 7.65024304e-01,\n",
              "        8.19817603e-01, 4.87881899e-01, 9.94571030e-01, 3.75144511e-01,\n",
              "        1.72240973e-01, 9.76179004e-01, 9.97184098e-01, 9.89421546e-01,\n",
              "        9.21207547e-01, 9.98250663e-01, 9.79288995e-01, 9.92792726e-01,\n",
              "        9.66503739e-01, 9.99511242e-01, 9.36733425e-01, 9.99288023e-01,\n",
              "        9.50311542e-01, 9.86907482e-01, 9.94020879e-01, 9.96621013e-01,\n",
              "        9.98864174e-01, 9.86942410e-01, 9.68636036e-01, 9.97113466e-01,\n",
              "        9.56365168e-01, 9.91235495e-01, 9.76046681e-01, 8.64339292e-01,\n",
              "        9.99576867e-01, 9.32978690e-01, 9.97041762e-01, 8.29899728e-01,\n",
              "        9.99397397e-01, 9.96949613e-01, 2.48548955e-01, 9.91211712e-01,\n",
              "        9.96421695e-01, 9.83581901e-01, 9.95588064e-01, 9.84222233e-01,\n",
              "        9.86074746e-01]], dtype=float32)"
            ]
          },
          "metadata": {},
          "execution_count": 84
        }
      ]
    },
    {
      "cell_type": "code",
      "source": [
        "import pickle\n",
        "with open(\"/content/drive/MyDrive/data/Region/oblast\", \"rb\") as fp:   # Unpickling\n",
        "  idx = pickle.load(fp)"
      ],
      "metadata": {
        "id": "K3y4Zzyvq5qy"
      },
      "execution_count": null,
      "outputs": []
    },
    {
      "cell_type": "code",
      "source": [
        "err1 = []\n",
        "err2 = []\n",
        "K1 = []\n",
        "K2 = []\n",
        "for n_dip in range(len(y_test)):\n",
        "  k1=[]\n",
        "  k2=[]\n",
        "\n",
        "  for j in range(10):\n",
        "    k = y_pred[n_dip][j].argmax()\n",
        "    k1.append(k)\n",
        "\n",
        "  for j in range(10):\n",
        "    k = y_test[n_dip][j].argmax()\n",
        "    k2.append(k)\n",
        "  \n",
        "  K1.append(k1)\n",
        "  K2.append(k2)\n",
        "\n",
        "  \n",
        "  for i in range(10):\n",
        "    tr = d[idx[k2[i]]]\n",
        "    pr = d[idx[k1[i]]]\n",
        "    err1.append((((tr[0]-pr[0])*1000)**2+((tr[1]-pr[1])*1000)**2+((tr[2]-pr[2])*1000)**2)**(1/2))\n",
        "\n",
        "  for i in range(9):\n",
        "    d1 = d[idx[k1[i]]]\n",
        "    d2 = d[idx[k1[i+1]]]\n",
        "    err2.append((((d2[0]-d1[0])*1000)**2+((d2[1]-d1[1])*1000)**2+((d2[2]-d1[2])*1000)**2)**(1/2))\n",
        "\n",
        "err1 = np.array( err1 )\n",
        "err2 = np.array( err2 )\n",
        "\n",
        "print(np.mean(err1))\n",
        "print(np.mean(err2))"
      ],
      "metadata": {
        "id": "CcoFd5ilXp-v",
        "colab": {
          "base_uri": "https://localhost:8080/"
        },
        "outputId": "5512019d-261e-498c-9be0-8a06a108c07a"
      },
      "execution_count": null,
      "outputs": [
        {
          "output_type": "stream",
          "name": "stdout",
          "text": [
            "0.010956015972383356\n",
            "2.4083054539114026\n"
          ]
        }
      ]
    },
    {
      "cell_type": "code",
      "source": [
        "from sklearn.metrics import confusion_matrix \n",
        "from sklearn.metrics import precision_score\n",
        "from sklearn.metrics import recall_score\n",
        "from sklearn.metrics import f1_score"
      ],
      "metadata": {
        "id": "vve9HJZa3E9b"
      },
      "execution_count": null,
      "outputs": []
    },
    {
      "cell_type": "code",
      "source": [
        "tn, fp, fn, tp = confusion_matrix(y_test[0][0], y_pred[0][0].round(), labels = [0, 1]).ravel() "
      ],
      "metadata": {
        "id": "_ErNexlZ_aCR"
      },
      "execution_count": null,
      "outputs": []
    },
    {
      "cell_type": "code",
      "source": [
        "print(y_test[1][0])\n",
        "print(y_pred[1][0].round())"
      ],
      "metadata": {
        "colab": {
          "base_uri": "https://localhost:8080/"
        },
        "id": "vIlQ8trsOnv2",
        "outputId": "0002b8ee-82c4-469b-aa86-50723f105679"
      },
      "execution_count": null,
      "outputs": [
        {
          "output_type": "stream",
          "name": "stdout",
          "text": [
            "[0. 0. 0. 0. 0. 0. 0. 0. 0. 0. 0. 0. 0. 0. 0. 0. 0. 0. 0. 0. 0. 0. 0. 0.\n",
            " 0. 0. 0. 0. 0. 0. 0. 0. 0. 1. 0. 0. 0. 0. 0. 0. 0. 0. 0. 0. 0.]\n",
            "[0. 0. 0. 0. 0. 0. 0. 0. 0. 0. 0. 0. 0. 0. 0. 0. 0. 0. 0. 0. 0. 0. 0. 0.\n",
            " 0. 0. 0. 0. 0. 0. 0. 0. 0. 1. 0. 0. 0. 0. 0. 0. 0. 0. 0. 0. 0.]\n"
          ]
        }
      ]
    },
    {
      "cell_type": "code",
      "source": [
        "y_pred[125][0].argmax()"
      ],
      "metadata": {
        "colab": {
          "base_uri": "https://localhost:8080/"
        },
        "id": "KiQ-MRV-Y93m",
        "outputId": "842c8f7d-0f44-4a65-f47c-c8553385855f"
      },
      "execution_count": null,
      "outputs": [
        {
          "output_type": "execute_result",
          "data": {
            "text/plain": [
              "11"
            ]
          },
          "metadata": {},
          "execution_count": 90
        }
      ]
    },
    {
      "cell_type": "code",
      "source": [
        "precision = tp/(tp+fp)\n",
        "precision"
      ],
      "metadata": {
        "colab": {
          "base_uri": "https://localhost:8080/"
        },
        "id": "mQoTxKjeABTy",
        "outputId": "ecaf5da0-09a4-44a6-9c28-4f84ce79424c"
      },
      "execution_count": null,
      "outputs": [
        {
          "output_type": "stream",
          "name": "stderr",
          "text": [
            "<ipython-input-91-60b7befcf007>:1: RuntimeWarning: invalid value encountered in long_scalars\n",
            "  precision = tp/(tp+fp)\n"
          ]
        },
        {
          "output_type": "execute_result",
          "data": {
            "text/plain": [
              "nan"
            ]
          },
          "metadata": {},
          "execution_count": 91
        }
      ]
    },
    {
      "cell_type": "code",
      "source": [
        "recall = tp/(tp+fn)\n",
        "recall"
      ],
      "metadata": {
        "colab": {
          "base_uri": "https://localhost:8080/"
        },
        "id": "323hIjXSC3zl",
        "outputId": "5a3be792-d59d-4093-909e-183860faea0f"
      },
      "execution_count": null,
      "outputs": [
        {
          "output_type": "execute_result",
          "data": {
            "text/plain": [
              "0.0"
            ]
          },
          "metadata": {},
          "execution_count": 92
        }
      ]
    },
    {
      "cell_type": "code",
      "source": [
        "f1 = tp/(tp+(fp+fn)/2)\n",
        "f1"
      ],
      "metadata": {
        "colab": {
          "base_uri": "https://localhost:8080/"
        },
        "id": "DWSyZYVtFHaw",
        "outputId": "c4f46920-9ef7-4413-c7dc-6ecede1845ba"
      },
      "execution_count": null,
      "outputs": [
        {
          "output_type": "execute_result",
          "data": {
            "text/plain": [
              "0.0"
            ]
          },
          "metadata": {},
          "execution_count": 40
        }
      ]
    },
    {
      "cell_type": "code",
      "source": [
        "#микроусреднение\n",
        "tn, fp, fn, tp,k = 0,0,0,0,0\n",
        "for i in range(y_test.shape[0]):\n",
        "  for j in range(y_test.shape[1]):\n",
        "    buf= confusion_matrix(y_test[i][j], y_pred[i][j].round(), labels = [0, 1]).ravel() \n",
        "    tn+=buf[0]\n",
        "    fp+=buf[1]\n",
        "    fn+=buf[2]\n",
        "    tp+=buf[3]\n",
        "    k+=1\n",
        "\n",
        "tp = tp/k\n",
        "fn = fn/k\n",
        "fp = fp/k\n",
        "\n",
        "recall = tp/(tp+fn)\n",
        "precision = tp/(tp+fp)\n",
        "f1 = tp/(tp+(fp+fn)/2)\n",
        "\n",
        "print(f'tn = {tn}, fp = {fp}, fn = {fn}, tp = {tp}')\n",
        "print(f'Recall = {recall}')\n",
        "print(f'Precision = {precision}')\n",
        "print(f'F1 = {f1}')"
      ],
      "metadata": {
        "colab": {
          "base_uri": "https://localhost:8080/"
        },
        "id": "3_uqgQWBOMFJ",
        "outputId": "782baf52-e2e0-4979-b808-50e95a328faf"
      },
      "execution_count": null,
      "outputs": [
        {
          "output_type": "stream",
          "name": "stdout",
          "text": [
            "tn = 87323, fp = 0.7512, fn = 0.8984, tp = 8.4212\n",
            "Recall = 0.9036010129190094\n",
            "Precision = 0.9181021324844096\n",
            "F1 = 0.9107938568029419\n"
          ]
        }
      ]
    },
    {
      "cell_type": "code",
      "source": [
        "#макроусреднение\n",
        "recall_macro = []\n",
        "precision_macro = []\n",
        "for i in range(y_test.shape[0]):\n",
        "  for j in range(y_test.shape[1]):\n",
        "    tn, fp, fn, tp = confusion_matrix(y_test[i][j], y_pred[i][j].round(), labels = [0, 1]).ravel() \n",
        "    recall = tp/(tp+fn)\n",
        "    #precision = tp/(tp+fp)\n",
        "    recall_macro.append(recall)\n",
        "    #precision_macro.append(precision)\n",
        "\n",
        "print(f'Recall = {np.mean(np.array(recall_macro))}')\n",
        "#print(f'Precision = {np.mean(np.array(precision_macro))}')"
      ],
      "metadata": {
        "colab": {
          "base_uri": "https://localhost:8080/"
        },
        "id": "scryyvcGPnxZ",
        "outputId": "7a0003f0-e951-4f63-a613-a59ddaa89013"
      },
      "execution_count": null,
      "outputs": [
        {
          "output_type": "stream",
          "name": "stdout",
          "text": [
            "Recall = 0.8002379106373841\n"
          ]
        }
      ]
    },
    {
      "cell_type": "code",
      "source": [
        "recall = 0\n",
        "for i in range(250):\n",
        "  recall+=recall_score(y_test[i], y_pred[i].round(), average='samples') \n",
        "print(f'Recall = {recall/250}')"
      ],
      "metadata": {
        "colab": {
          "base_uri": "https://localhost:8080/"
        },
        "id": "Kjip8nGSUvpE",
        "outputId": "0406670f-22f1-4db1-b8e0-3a81fca4e41d"
      },
      "execution_count": null,
      "outputs": [
        {
          "output_type": "stream",
          "name": "stdout",
          "text": [
            "Recall = 0.8528000000000009\n"
          ]
        }
      ]
    },
    {
      "cell_type": "code",
      "source": [
        "precision = 0\n",
        "for i in range(250):\n",
        "  precision+=precision_score(y_test[i], y_pred[i].round(), average='samples',zero_division='warn') "
      ],
      "metadata": {
        "colab": {
          "base_uri": "https://localhost:8080/"
        },
        "id": "yOa0EHAeVRLg",
        "outputId": "a4aa83f0-9380-466f-fa3d-e354c59a3688"
      },
      "execution_count": null,
      "outputs": [
        {
          "output_type": "stream",
          "name": "stderr",
          "text": [
            "/usr/local/lib/python3.8/dist-packages/sklearn/metrics/_classification.py:1318: UndefinedMetricWarning: Precision is ill-defined and being set to 0.0 in samples with no predicted labels. Use `zero_division` parameter to control this behavior.\n",
            "  _warn_prf(average, modifier, msg_start, len(result))\n",
            "/usr/local/lib/python3.8/dist-packages/sklearn/metrics/_classification.py:1318: UndefinedMetricWarning: Precision is ill-defined and being set to 0.0 in samples with no predicted labels. Use `zero_division` parameter to control this behavior.\n",
            "  _warn_prf(average, modifier, msg_start, len(result))\n",
            "/usr/local/lib/python3.8/dist-packages/sklearn/metrics/_classification.py:1318: UndefinedMetricWarning: Precision is ill-defined and being set to 0.0 in samples with no predicted labels. Use `zero_division` parameter to control this behavior.\n",
            "  _warn_prf(average, modifier, msg_start, len(result))\n",
            "/usr/local/lib/python3.8/dist-packages/sklearn/metrics/_classification.py:1318: UndefinedMetricWarning: Precision is ill-defined and being set to 0.0 in samples with no predicted labels. Use `zero_division` parameter to control this behavior.\n",
            "  _warn_prf(average, modifier, msg_start, len(result))\n",
            "/usr/local/lib/python3.8/dist-packages/sklearn/metrics/_classification.py:1318: UndefinedMetricWarning: Precision is ill-defined and being set to 0.0 in samples with no predicted labels. Use `zero_division` parameter to control this behavior.\n",
            "  _warn_prf(average, modifier, msg_start, len(result))\n",
            "/usr/local/lib/python3.8/dist-packages/sklearn/metrics/_classification.py:1318: UndefinedMetricWarning: Precision is ill-defined and being set to 0.0 in samples with no predicted labels. Use `zero_division` parameter to control this behavior.\n",
            "  _warn_prf(average, modifier, msg_start, len(result))\n",
            "/usr/local/lib/python3.8/dist-packages/sklearn/metrics/_classification.py:1318: UndefinedMetricWarning: Precision is ill-defined and being set to 0.0 in samples with no predicted labels. Use `zero_division` parameter to control this behavior.\n",
            "  _warn_prf(average, modifier, msg_start, len(result))\n",
            "/usr/local/lib/python3.8/dist-packages/sklearn/metrics/_classification.py:1318: UndefinedMetricWarning: Precision is ill-defined and being set to 0.0 in samples with no predicted labels. Use `zero_division` parameter to control this behavior.\n",
            "  _warn_prf(average, modifier, msg_start, len(result))\n",
            "/usr/local/lib/python3.8/dist-packages/sklearn/metrics/_classification.py:1318: UndefinedMetricWarning: Precision is ill-defined and being set to 0.0 in samples with no predicted labels. Use `zero_division` parameter to control this behavior.\n",
            "  _warn_prf(average, modifier, msg_start, len(result))\n",
            "/usr/local/lib/python3.8/dist-packages/sklearn/metrics/_classification.py:1318: UndefinedMetricWarning: Precision is ill-defined and being set to 0.0 in samples with no predicted labels. Use `zero_division` parameter to control this behavior.\n",
            "  _warn_prf(average, modifier, msg_start, len(result))\n",
            "/usr/local/lib/python3.8/dist-packages/sklearn/metrics/_classification.py:1318: UndefinedMetricWarning: Precision is ill-defined and being set to 0.0 in samples with no predicted labels. Use `zero_division` parameter to control this behavior.\n",
            "  _warn_prf(average, modifier, msg_start, len(result))\n",
            "/usr/local/lib/python3.8/dist-packages/sklearn/metrics/_classification.py:1318: UndefinedMetricWarning: Precision is ill-defined and being set to 0.0 in samples with no predicted labels. Use `zero_division` parameter to control this behavior.\n",
            "  _warn_prf(average, modifier, msg_start, len(result))\n",
            "/usr/local/lib/python3.8/dist-packages/sklearn/metrics/_classification.py:1318: UndefinedMetricWarning: Precision is ill-defined and being set to 0.0 in samples with no predicted labels. Use `zero_division` parameter to control this behavior.\n",
            "  _warn_prf(average, modifier, msg_start, len(result))\n",
            "/usr/local/lib/python3.8/dist-packages/sklearn/metrics/_classification.py:1318: UndefinedMetricWarning: Precision is ill-defined and being set to 0.0 in samples with no predicted labels. Use `zero_division` parameter to control this behavior.\n",
            "  _warn_prf(average, modifier, msg_start, len(result))\n",
            "/usr/local/lib/python3.8/dist-packages/sklearn/metrics/_classification.py:1318: UndefinedMetricWarning: Precision is ill-defined and being set to 0.0 in samples with no predicted labels. Use `zero_division` parameter to control this behavior.\n",
            "  _warn_prf(average, modifier, msg_start, len(result))\n",
            "/usr/local/lib/python3.8/dist-packages/sklearn/metrics/_classification.py:1318: UndefinedMetricWarning: Precision is ill-defined and being set to 0.0 in samples with no predicted labels. Use `zero_division` parameter to control this behavior.\n",
            "  _warn_prf(average, modifier, msg_start, len(result))\n",
            "/usr/local/lib/python3.8/dist-packages/sklearn/metrics/_classification.py:1318: UndefinedMetricWarning: Precision is ill-defined and being set to 0.0 in samples with no predicted labels. Use `zero_division` parameter to control this behavior.\n",
            "  _warn_prf(average, modifier, msg_start, len(result))\n",
            "/usr/local/lib/python3.8/dist-packages/sklearn/metrics/_classification.py:1318: UndefinedMetricWarning: Precision is ill-defined and being set to 0.0 in samples with no predicted labels. Use `zero_division` parameter to control this behavior.\n",
            "  _warn_prf(average, modifier, msg_start, len(result))\n",
            "/usr/local/lib/python3.8/dist-packages/sklearn/metrics/_classification.py:1318: UndefinedMetricWarning: Precision is ill-defined and being set to 0.0 in samples with no predicted labels. Use `zero_division` parameter to control this behavior.\n",
            "  _warn_prf(average, modifier, msg_start, len(result))\n",
            "/usr/local/lib/python3.8/dist-packages/sklearn/metrics/_classification.py:1318: UndefinedMetricWarning: Precision is ill-defined and being set to 0.0 in samples with no predicted labels. Use `zero_division` parameter to control this behavior.\n",
            "  _warn_prf(average, modifier, msg_start, len(result))\n",
            "/usr/local/lib/python3.8/dist-packages/sklearn/metrics/_classification.py:1318: UndefinedMetricWarning: Precision is ill-defined and being set to 0.0 in samples with no predicted labels. Use `zero_division` parameter to control this behavior.\n",
            "  _warn_prf(average, modifier, msg_start, len(result))\n",
            "/usr/local/lib/python3.8/dist-packages/sklearn/metrics/_classification.py:1318: UndefinedMetricWarning: Precision is ill-defined and being set to 0.0 in samples with no predicted labels. Use `zero_division` parameter to control this behavior.\n",
            "  _warn_prf(average, modifier, msg_start, len(result))\n",
            "/usr/local/lib/python3.8/dist-packages/sklearn/metrics/_classification.py:1318: UndefinedMetricWarning: Precision is ill-defined and being set to 0.0 in samples with no predicted labels. Use `zero_division` parameter to control this behavior.\n",
            "  _warn_prf(average, modifier, msg_start, len(result))\n",
            "/usr/local/lib/python3.8/dist-packages/sklearn/metrics/_classification.py:1318: UndefinedMetricWarning: Precision is ill-defined and being set to 0.0 in samples with no predicted labels. Use `zero_division` parameter to control this behavior.\n",
            "  _warn_prf(average, modifier, msg_start, len(result))\n",
            "/usr/local/lib/python3.8/dist-packages/sklearn/metrics/_classification.py:1318: UndefinedMetricWarning: Precision is ill-defined and being set to 0.0 in samples with no predicted labels. Use `zero_division` parameter to control this behavior.\n",
            "  _warn_prf(average, modifier, msg_start, len(result))\n",
            "/usr/local/lib/python3.8/dist-packages/sklearn/metrics/_classification.py:1318: UndefinedMetricWarning: Precision is ill-defined and being set to 0.0 in samples with no predicted labels. Use `zero_division` parameter to control this behavior.\n",
            "  _warn_prf(average, modifier, msg_start, len(result))\n",
            "/usr/local/lib/python3.8/dist-packages/sklearn/metrics/_classification.py:1318: UndefinedMetricWarning: Precision is ill-defined and being set to 0.0 in samples with no predicted labels. Use `zero_division` parameter to control this behavior.\n",
            "  _warn_prf(average, modifier, msg_start, len(result))\n",
            "/usr/local/lib/python3.8/dist-packages/sklearn/metrics/_classification.py:1318: UndefinedMetricWarning: Precision is ill-defined and being set to 0.0 in samples with no predicted labels. Use `zero_division` parameter to control this behavior.\n",
            "  _warn_prf(average, modifier, msg_start, len(result))\n",
            "/usr/local/lib/python3.8/dist-packages/sklearn/metrics/_classification.py:1318: UndefinedMetricWarning: Precision is ill-defined and being set to 0.0 in samples with no predicted labels. Use `zero_division` parameter to control this behavior.\n",
            "  _warn_prf(average, modifier, msg_start, len(result))\n",
            "/usr/local/lib/python3.8/dist-packages/sklearn/metrics/_classification.py:1318: UndefinedMetricWarning: Precision is ill-defined and being set to 0.0 in samples with no predicted labels. Use `zero_division` parameter to control this behavior.\n",
            "  _warn_prf(average, modifier, msg_start, len(result))\n",
            "/usr/local/lib/python3.8/dist-packages/sklearn/metrics/_classification.py:1318: UndefinedMetricWarning: Precision is ill-defined and being set to 0.0 in samples with no predicted labels. Use `zero_division` parameter to control this behavior.\n",
            "  _warn_prf(average, modifier, msg_start, len(result))\n",
            "/usr/local/lib/python3.8/dist-packages/sklearn/metrics/_classification.py:1318: UndefinedMetricWarning: Precision is ill-defined and being set to 0.0 in samples with no predicted labels. Use `zero_division` parameter to control this behavior.\n",
            "  _warn_prf(average, modifier, msg_start, len(result))\n",
            "/usr/local/lib/python3.8/dist-packages/sklearn/metrics/_classification.py:1318: UndefinedMetricWarning: Precision is ill-defined and being set to 0.0 in samples with no predicted labels. Use `zero_division` parameter to control this behavior.\n",
            "  _warn_prf(average, modifier, msg_start, len(result))\n",
            "/usr/local/lib/python3.8/dist-packages/sklearn/metrics/_classification.py:1318: UndefinedMetricWarning: Precision is ill-defined and being set to 0.0 in samples with no predicted labels. Use `zero_division` parameter to control this behavior.\n",
            "  _warn_prf(average, modifier, msg_start, len(result))\n",
            "/usr/local/lib/python3.8/dist-packages/sklearn/metrics/_classification.py:1318: UndefinedMetricWarning: Precision is ill-defined and being set to 0.0 in samples with no predicted labels. Use `zero_division` parameter to control this behavior.\n",
            "  _warn_prf(average, modifier, msg_start, len(result))\n",
            "/usr/local/lib/python3.8/dist-packages/sklearn/metrics/_classification.py:1318: UndefinedMetricWarning: Precision is ill-defined and being set to 0.0 in samples with no predicted labels. Use `zero_division` parameter to control this behavior.\n",
            "  _warn_prf(average, modifier, msg_start, len(result))\n",
            "/usr/local/lib/python3.8/dist-packages/sklearn/metrics/_classification.py:1318: UndefinedMetricWarning: Precision is ill-defined and being set to 0.0 in samples with no predicted labels. Use `zero_division` parameter to control this behavior.\n",
            "  _warn_prf(average, modifier, msg_start, len(result))\n",
            "/usr/local/lib/python3.8/dist-packages/sklearn/metrics/_classification.py:1318: UndefinedMetricWarning: Precision is ill-defined and being set to 0.0 in samples with no predicted labels. Use `zero_division` parameter to control this behavior.\n",
            "  _warn_prf(average, modifier, msg_start, len(result))\n",
            "/usr/local/lib/python3.8/dist-packages/sklearn/metrics/_classification.py:1318: UndefinedMetricWarning: Precision is ill-defined and being set to 0.0 in samples with no predicted labels. Use `zero_division` parameter to control this behavior.\n",
            "  _warn_prf(average, modifier, msg_start, len(result))\n",
            "/usr/local/lib/python3.8/dist-packages/sklearn/metrics/_classification.py:1318: UndefinedMetricWarning: Precision is ill-defined and being set to 0.0 in samples with no predicted labels. Use `zero_division` parameter to control this behavior.\n",
            "  _warn_prf(average, modifier, msg_start, len(result))\n",
            "/usr/local/lib/python3.8/dist-packages/sklearn/metrics/_classification.py:1318: UndefinedMetricWarning: Precision is ill-defined and being set to 0.0 in samples with no predicted labels. Use `zero_division` parameter to control this behavior.\n",
            "  _warn_prf(average, modifier, msg_start, len(result))\n",
            "/usr/local/lib/python3.8/dist-packages/sklearn/metrics/_classification.py:1318: UndefinedMetricWarning: Precision is ill-defined and being set to 0.0 in samples with no predicted labels. Use `zero_division` parameter to control this behavior.\n",
            "  _warn_prf(average, modifier, msg_start, len(result))\n",
            "/usr/local/lib/python3.8/dist-packages/sklearn/metrics/_classification.py:1318: UndefinedMetricWarning: Precision is ill-defined and being set to 0.0 in samples with no predicted labels. Use `zero_division` parameter to control this behavior.\n",
            "  _warn_prf(average, modifier, msg_start, len(result))\n",
            "/usr/local/lib/python3.8/dist-packages/sklearn/metrics/_classification.py:1318: UndefinedMetricWarning: Precision is ill-defined and being set to 0.0 in samples with no predicted labels. Use `zero_division` parameter to control this behavior.\n",
            "  _warn_prf(average, modifier, msg_start, len(result))\n",
            "/usr/local/lib/python3.8/dist-packages/sklearn/metrics/_classification.py:1318: UndefinedMetricWarning: Precision is ill-defined and being set to 0.0 in samples with no predicted labels. Use `zero_division` parameter to control this behavior.\n",
            "  _warn_prf(average, modifier, msg_start, len(result))\n",
            "/usr/local/lib/python3.8/dist-packages/sklearn/metrics/_classification.py:1318: UndefinedMetricWarning: Precision is ill-defined and being set to 0.0 in samples with no predicted labels. Use `zero_division` parameter to control this behavior.\n",
            "  _warn_prf(average, modifier, msg_start, len(result))\n",
            "/usr/local/lib/python3.8/dist-packages/sklearn/metrics/_classification.py:1318: UndefinedMetricWarning: Precision is ill-defined and being set to 0.0 in samples with no predicted labels. Use `zero_division` parameter to control this behavior.\n",
            "  _warn_prf(average, modifier, msg_start, len(result))\n",
            "/usr/local/lib/python3.8/dist-packages/sklearn/metrics/_classification.py:1318: UndefinedMetricWarning: Precision is ill-defined and being set to 0.0 in samples with no predicted labels. Use `zero_division` parameter to control this behavior.\n",
            "  _warn_prf(average, modifier, msg_start, len(result))\n",
            "/usr/local/lib/python3.8/dist-packages/sklearn/metrics/_classification.py:1318: UndefinedMetricWarning: Precision is ill-defined and being set to 0.0 in samples with no predicted labels. Use `zero_division` parameter to control this behavior.\n",
            "  _warn_prf(average, modifier, msg_start, len(result))\n",
            "/usr/local/lib/python3.8/dist-packages/sklearn/metrics/_classification.py:1318: UndefinedMetricWarning: Precision is ill-defined and being set to 0.0 in samples with no predicted labels. Use `zero_division` parameter to control this behavior.\n",
            "  _warn_prf(average, modifier, msg_start, len(result))\n",
            "/usr/local/lib/python3.8/dist-packages/sklearn/metrics/_classification.py:1318: UndefinedMetricWarning: Precision is ill-defined and being set to 0.0 in samples with no predicted labels. Use `zero_division` parameter to control this behavior.\n",
            "  _warn_prf(average, modifier, msg_start, len(result))\n",
            "/usr/local/lib/python3.8/dist-packages/sklearn/metrics/_classification.py:1318: UndefinedMetricWarning: Precision is ill-defined and being set to 0.0 in samples with no predicted labels. Use `zero_division` parameter to control this behavior.\n",
            "  _warn_prf(average, modifier, msg_start, len(result))\n",
            "/usr/local/lib/python3.8/dist-packages/sklearn/metrics/_classification.py:1318: UndefinedMetricWarning: Precision is ill-defined and being set to 0.0 in samples with no predicted labels. Use `zero_division` parameter to control this behavior.\n",
            "  _warn_prf(average, modifier, msg_start, len(result))\n",
            "/usr/local/lib/python3.8/dist-packages/sklearn/metrics/_classification.py:1318: UndefinedMetricWarning: Precision is ill-defined and being set to 0.0 in samples with no predicted labels. Use `zero_division` parameter to control this behavior.\n",
            "  _warn_prf(average, modifier, msg_start, len(result))\n",
            "/usr/local/lib/python3.8/dist-packages/sklearn/metrics/_classification.py:1318: UndefinedMetricWarning: Precision is ill-defined and being set to 0.0 in samples with no predicted labels. Use `zero_division` parameter to control this behavior.\n",
            "  _warn_prf(average, modifier, msg_start, len(result))\n",
            "/usr/local/lib/python3.8/dist-packages/sklearn/metrics/_classification.py:1318: UndefinedMetricWarning: Precision is ill-defined and being set to 0.0 in samples with no predicted labels. Use `zero_division` parameter to control this behavior.\n",
            "  _warn_prf(average, modifier, msg_start, len(result))\n",
            "/usr/local/lib/python3.8/dist-packages/sklearn/metrics/_classification.py:1318: UndefinedMetricWarning: Precision is ill-defined and being set to 0.0 in samples with no predicted labels. Use `zero_division` parameter to control this behavior.\n",
            "  _warn_prf(average, modifier, msg_start, len(result))\n",
            "/usr/local/lib/python3.8/dist-packages/sklearn/metrics/_classification.py:1318: UndefinedMetricWarning: Precision is ill-defined and being set to 0.0 in samples with no predicted labels. Use `zero_division` parameter to control this behavior.\n",
            "  _warn_prf(average, modifier, msg_start, len(result))\n",
            "/usr/local/lib/python3.8/dist-packages/sklearn/metrics/_classification.py:1318: UndefinedMetricWarning: Precision is ill-defined and being set to 0.0 in samples with no predicted labels. Use `zero_division` parameter to control this behavior.\n",
            "  _warn_prf(average, modifier, msg_start, len(result))\n",
            "/usr/local/lib/python3.8/dist-packages/sklearn/metrics/_classification.py:1318: UndefinedMetricWarning: Precision is ill-defined and being set to 0.0 in samples with no predicted labels. Use `zero_division` parameter to control this behavior.\n",
            "  _warn_prf(average, modifier, msg_start, len(result))\n",
            "/usr/local/lib/python3.8/dist-packages/sklearn/metrics/_classification.py:1318: UndefinedMetricWarning: Precision is ill-defined and being set to 0.0 in samples with no predicted labels. Use `zero_division` parameter to control this behavior.\n",
            "  _warn_prf(average, modifier, msg_start, len(result))\n",
            "/usr/local/lib/python3.8/dist-packages/sklearn/metrics/_classification.py:1318: UndefinedMetricWarning: Precision is ill-defined and being set to 0.0 in samples with no predicted labels. Use `zero_division` parameter to control this behavior.\n",
            "  _warn_prf(average, modifier, msg_start, len(result))\n",
            "/usr/local/lib/python3.8/dist-packages/sklearn/metrics/_classification.py:1318: UndefinedMetricWarning: Precision is ill-defined and being set to 0.0 in samples with no predicted labels. Use `zero_division` parameter to control this behavior.\n",
            "  _warn_prf(average, modifier, msg_start, len(result))\n",
            "/usr/local/lib/python3.8/dist-packages/sklearn/metrics/_classification.py:1318: UndefinedMetricWarning: Precision is ill-defined and being set to 0.0 in samples with no predicted labels. Use `zero_division` parameter to control this behavior.\n",
            "  _warn_prf(average, modifier, msg_start, len(result))\n",
            "/usr/local/lib/python3.8/dist-packages/sklearn/metrics/_classification.py:1318: UndefinedMetricWarning: Precision is ill-defined and being set to 0.0 in samples with no predicted labels. Use `zero_division` parameter to control this behavior.\n",
            "  _warn_prf(average, modifier, msg_start, len(result))\n",
            "/usr/local/lib/python3.8/dist-packages/sklearn/metrics/_classification.py:1318: UndefinedMetricWarning: Precision is ill-defined and being set to 0.0 in samples with no predicted labels. Use `zero_division` parameter to control this behavior.\n",
            "  _warn_prf(average, modifier, msg_start, len(result))\n",
            "/usr/local/lib/python3.8/dist-packages/sklearn/metrics/_classification.py:1318: UndefinedMetricWarning: Precision is ill-defined and being set to 0.0 in samples with no predicted labels. Use `zero_division` parameter to control this behavior.\n",
            "  _warn_prf(average, modifier, msg_start, len(result))\n",
            "/usr/local/lib/python3.8/dist-packages/sklearn/metrics/_classification.py:1318: UndefinedMetricWarning: Precision is ill-defined and being set to 0.0 in samples with no predicted labels. Use `zero_division` parameter to control this behavior.\n",
            "  _warn_prf(average, modifier, msg_start, len(result))\n",
            "/usr/local/lib/python3.8/dist-packages/sklearn/metrics/_classification.py:1318: UndefinedMetricWarning: Precision is ill-defined and being set to 0.0 in samples with no predicted labels. Use `zero_division` parameter to control this behavior.\n",
            "  _warn_prf(average, modifier, msg_start, len(result))\n",
            "/usr/local/lib/python3.8/dist-packages/sklearn/metrics/_classification.py:1318: UndefinedMetricWarning: Precision is ill-defined and being set to 0.0 in samples with no predicted labels. Use `zero_division` parameter to control this behavior.\n",
            "  _warn_prf(average, modifier, msg_start, len(result))\n",
            "/usr/local/lib/python3.8/dist-packages/sklearn/metrics/_classification.py:1318: UndefinedMetricWarning: Precision is ill-defined and being set to 0.0 in samples with no predicted labels. Use `zero_division` parameter to control this behavior.\n",
            "  _warn_prf(average, modifier, msg_start, len(result))\n",
            "/usr/local/lib/python3.8/dist-packages/sklearn/metrics/_classification.py:1318: UndefinedMetricWarning: Precision is ill-defined and being set to 0.0 in samples with no predicted labels. Use `zero_division` parameter to control this behavior.\n",
            "  _warn_prf(average, modifier, msg_start, len(result))\n",
            "/usr/local/lib/python3.8/dist-packages/sklearn/metrics/_classification.py:1318: UndefinedMetricWarning: Precision is ill-defined and being set to 0.0 in samples with no predicted labels. Use `zero_division` parameter to control this behavior.\n",
            "  _warn_prf(average, modifier, msg_start, len(result))\n",
            "/usr/local/lib/python3.8/dist-packages/sklearn/metrics/_classification.py:1318: UndefinedMetricWarning: Precision is ill-defined and being set to 0.0 in samples with no predicted labels. Use `zero_division` parameter to control this behavior.\n",
            "  _warn_prf(average, modifier, msg_start, len(result))\n",
            "/usr/local/lib/python3.8/dist-packages/sklearn/metrics/_classification.py:1318: UndefinedMetricWarning: Precision is ill-defined and being set to 0.0 in samples with no predicted labels. Use `zero_division` parameter to control this behavior.\n",
            "  _warn_prf(average, modifier, msg_start, len(result))\n",
            "/usr/local/lib/python3.8/dist-packages/sklearn/metrics/_classification.py:1318: UndefinedMetricWarning: Precision is ill-defined and being set to 0.0 in samples with no predicted labels. Use `zero_division` parameter to control this behavior.\n",
            "  _warn_prf(average, modifier, msg_start, len(result))\n",
            "/usr/local/lib/python3.8/dist-packages/sklearn/metrics/_classification.py:1318: UndefinedMetricWarning: Precision is ill-defined and being set to 0.0 in samples with no predicted labels. Use `zero_division` parameter to control this behavior.\n",
            "  _warn_prf(average, modifier, msg_start, len(result))\n",
            "/usr/local/lib/python3.8/dist-packages/sklearn/metrics/_classification.py:1318: UndefinedMetricWarning: Precision is ill-defined and being set to 0.0 in samples with no predicted labels. Use `zero_division` parameter to control this behavior.\n",
            "  _warn_prf(average, modifier, msg_start, len(result))\n",
            "/usr/local/lib/python3.8/dist-packages/sklearn/metrics/_classification.py:1318: UndefinedMetricWarning: Precision is ill-defined and being set to 0.0 in samples with no predicted labels. Use `zero_division` parameter to control this behavior.\n",
            "  _warn_prf(average, modifier, msg_start, len(result))\n",
            "/usr/local/lib/python3.8/dist-packages/sklearn/metrics/_classification.py:1318: UndefinedMetricWarning: Precision is ill-defined and being set to 0.0 in samples with no predicted labels. Use `zero_division` parameter to control this behavior.\n",
            "  _warn_prf(average, modifier, msg_start, len(result))\n",
            "/usr/local/lib/python3.8/dist-packages/sklearn/metrics/_classification.py:1318: UndefinedMetricWarning: Precision is ill-defined and being set to 0.0 in samples with no predicted labels. Use `zero_division` parameter to control this behavior.\n",
            "  _warn_prf(average, modifier, msg_start, len(result))\n",
            "/usr/local/lib/python3.8/dist-packages/sklearn/metrics/_classification.py:1318: UndefinedMetricWarning: Precision is ill-defined and being set to 0.0 in samples with no predicted labels. Use `zero_division` parameter to control this behavior.\n",
            "  _warn_prf(average, modifier, msg_start, len(result))\n",
            "/usr/local/lib/python3.8/dist-packages/sklearn/metrics/_classification.py:1318: UndefinedMetricWarning: Precision is ill-defined and being set to 0.0 in samples with no predicted labels. Use `zero_division` parameter to control this behavior.\n",
            "  _warn_prf(average, modifier, msg_start, len(result))\n",
            "/usr/local/lib/python3.8/dist-packages/sklearn/metrics/_classification.py:1318: UndefinedMetricWarning: Precision is ill-defined and being set to 0.0 in samples with no predicted labels. Use `zero_division` parameter to control this behavior.\n",
            "  _warn_prf(average, modifier, msg_start, len(result))\n",
            "/usr/local/lib/python3.8/dist-packages/sklearn/metrics/_classification.py:1318: UndefinedMetricWarning: Precision is ill-defined and being set to 0.0 in samples with no predicted labels. Use `zero_division` parameter to control this behavior.\n",
            "  _warn_prf(average, modifier, msg_start, len(result))\n",
            "/usr/local/lib/python3.8/dist-packages/sklearn/metrics/_classification.py:1318: UndefinedMetricWarning: Precision is ill-defined and being set to 0.0 in samples with no predicted labels. Use `zero_division` parameter to control this behavior.\n",
            "  _warn_prf(average, modifier, msg_start, len(result))\n",
            "/usr/local/lib/python3.8/dist-packages/sklearn/metrics/_classification.py:1318: UndefinedMetricWarning: Precision is ill-defined and being set to 0.0 in samples with no predicted labels. Use `zero_division` parameter to control this behavior.\n",
            "  _warn_prf(average, modifier, msg_start, len(result))\n",
            "/usr/local/lib/python3.8/dist-packages/sklearn/metrics/_classification.py:1318: UndefinedMetricWarning: Precision is ill-defined and being set to 0.0 in samples with no predicted labels. Use `zero_division` parameter to control this behavior.\n",
            "  _warn_prf(average, modifier, msg_start, len(result))\n",
            "/usr/local/lib/python3.8/dist-packages/sklearn/metrics/_classification.py:1318: UndefinedMetricWarning: Precision is ill-defined and being set to 0.0 in samples with no predicted labels. Use `zero_division` parameter to control this behavior.\n",
            "  _warn_prf(average, modifier, msg_start, len(result))\n",
            "/usr/local/lib/python3.8/dist-packages/sklearn/metrics/_classification.py:1318: UndefinedMetricWarning: Precision is ill-defined and being set to 0.0 in samples with no predicted labels. Use `zero_division` parameter to control this behavior.\n",
            "  _warn_prf(average, modifier, msg_start, len(result))\n",
            "/usr/local/lib/python3.8/dist-packages/sklearn/metrics/_classification.py:1318: UndefinedMetricWarning: Precision is ill-defined and being set to 0.0 in samples with no predicted labels. Use `zero_division` parameter to control this behavior.\n",
            "  _warn_prf(average, modifier, msg_start, len(result))\n",
            "/usr/local/lib/python3.8/dist-packages/sklearn/metrics/_classification.py:1318: UndefinedMetricWarning: Precision is ill-defined and being set to 0.0 in samples with no predicted labels. Use `zero_division` parameter to control this behavior.\n",
            "  _warn_prf(average, modifier, msg_start, len(result))\n",
            "/usr/local/lib/python3.8/dist-packages/sklearn/metrics/_classification.py:1318: UndefinedMetricWarning: Precision is ill-defined and being set to 0.0 in samples with no predicted labels. Use `zero_division` parameter to control this behavior.\n",
            "  _warn_prf(average, modifier, msg_start, len(result))\n",
            "/usr/local/lib/python3.8/dist-packages/sklearn/metrics/_classification.py:1318: UndefinedMetricWarning: Precision is ill-defined and being set to 0.0 in samples with no predicted labels. Use `zero_division` parameter to control this behavior.\n",
            "  _warn_prf(average, modifier, msg_start, len(result))\n",
            "/usr/local/lib/python3.8/dist-packages/sklearn/metrics/_classification.py:1318: UndefinedMetricWarning: Precision is ill-defined and being set to 0.0 in samples with no predicted labels. Use `zero_division` parameter to control this behavior.\n",
            "  _warn_prf(average, modifier, msg_start, len(result))\n",
            "/usr/local/lib/python3.8/dist-packages/sklearn/metrics/_classification.py:1318: UndefinedMetricWarning: Precision is ill-defined and being set to 0.0 in samples with no predicted labels. Use `zero_division` parameter to control this behavior.\n",
            "  _warn_prf(average, modifier, msg_start, len(result))\n",
            "/usr/local/lib/python3.8/dist-packages/sklearn/metrics/_classification.py:1318: UndefinedMetricWarning: Precision is ill-defined and being set to 0.0 in samples with no predicted labels. Use `zero_division` parameter to control this behavior.\n",
            "  _warn_prf(average, modifier, msg_start, len(result))\n",
            "/usr/local/lib/python3.8/dist-packages/sklearn/metrics/_classification.py:1318: UndefinedMetricWarning: Precision is ill-defined and being set to 0.0 in samples with no predicted labels. Use `zero_division` parameter to control this behavior.\n",
            "  _warn_prf(average, modifier, msg_start, len(result))\n",
            "/usr/local/lib/python3.8/dist-packages/sklearn/metrics/_classification.py:1318: UndefinedMetricWarning: Precision is ill-defined and being set to 0.0 in samples with no predicted labels. Use `zero_division` parameter to control this behavior.\n",
            "  _warn_prf(average, modifier, msg_start, len(result))\n",
            "/usr/local/lib/python3.8/dist-packages/sklearn/metrics/_classification.py:1318: UndefinedMetricWarning: Precision is ill-defined and being set to 0.0 in samples with no predicted labels. Use `zero_division` parameter to control this behavior.\n",
            "  _warn_prf(average, modifier, msg_start, len(result))\n",
            "/usr/local/lib/python3.8/dist-packages/sklearn/metrics/_classification.py:1318: UndefinedMetricWarning: Precision is ill-defined and being set to 0.0 in samples with no predicted labels. Use `zero_division` parameter to control this behavior.\n",
            "  _warn_prf(average, modifier, msg_start, len(result))\n",
            "/usr/local/lib/python3.8/dist-packages/sklearn/metrics/_classification.py:1318: UndefinedMetricWarning: Precision is ill-defined and being set to 0.0 in samples with no predicted labels. Use `zero_division` parameter to control this behavior.\n",
            "  _warn_prf(average, modifier, msg_start, len(result))\n",
            "/usr/local/lib/python3.8/dist-packages/sklearn/metrics/_classification.py:1318: UndefinedMetricWarning: Precision is ill-defined and being set to 0.0 in samples with no predicted labels. Use `zero_division` parameter to control this behavior.\n",
            "  _warn_prf(average, modifier, msg_start, len(result))\n",
            "/usr/local/lib/python3.8/dist-packages/sklearn/metrics/_classification.py:1318: UndefinedMetricWarning: Precision is ill-defined and being set to 0.0 in samples with no predicted labels. Use `zero_division` parameter to control this behavior.\n",
            "  _warn_prf(average, modifier, msg_start, len(result))\n",
            "/usr/local/lib/python3.8/dist-packages/sklearn/metrics/_classification.py:1318: UndefinedMetricWarning: Precision is ill-defined and being set to 0.0 in samples with no predicted labels. Use `zero_division` parameter to control this behavior.\n",
            "  _warn_prf(average, modifier, msg_start, len(result))\n",
            "/usr/local/lib/python3.8/dist-packages/sklearn/metrics/_classification.py:1318: UndefinedMetricWarning: Precision is ill-defined and being set to 0.0 in samples with no predicted labels. Use `zero_division` parameter to control this behavior.\n",
            "  _warn_prf(average, modifier, msg_start, len(result))\n",
            "/usr/local/lib/python3.8/dist-packages/sklearn/metrics/_classification.py:1318: UndefinedMetricWarning: Precision is ill-defined and being set to 0.0 in samples with no predicted labels. Use `zero_division` parameter to control this behavior.\n",
            "  _warn_prf(average, modifier, msg_start, len(result))\n",
            "/usr/local/lib/python3.8/dist-packages/sklearn/metrics/_classification.py:1318: UndefinedMetricWarning: Precision is ill-defined and being set to 0.0 in samples with no predicted labels. Use `zero_division` parameter to control this behavior.\n",
            "  _warn_prf(average, modifier, msg_start, len(result))\n",
            "/usr/local/lib/python3.8/dist-packages/sklearn/metrics/_classification.py:1318: UndefinedMetricWarning: Precision is ill-defined and being set to 0.0 in samples with no predicted labels. Use `zero_division` parameter to control this behavior.\n",
            "  _warn_prf(average, modifier, msg_start, len(result))\n",
            "/usr/local/lib/python3.8/dist-packages/sklearn/metrics/_classification.py:1318: UndefinedMetricWarning: Precision is ill-defined and being set to 0.0 in samples with no predicted labels. Use `zero_division` parameter to control this behavior.\n",
            "  _warn_prf(average, modifier, msg_start, len(result))\n",
            "/usr/local/lib/python3.8/dist-packages/sklearn/metrics/_classification.py:1318: UndefinedMetricWarning: Precision is ill-defined and being set to 0.0 in samples with no predicted labels. Use `zero_division` parameter to control this behavior.\n",
            "  _warn_prf(average, modifier, msg_start, len(result))\n",
            "/usr/local/lib/python3.8/dist-packages/sklearn/metrics/_classification.py:1318: UndefinedMetricWarning: Precision is ill-defined and being set to 0.0 in samples with no predicted labels. Use `zero_division` parameter to control this behavior.\n",
            "  _warn_prf(average, modifier, msg_start, len(result))\n",
            "/usr/local/lib/python3.8/dist-packages/sklearn/metrics/_classification.py:1318: UndefinedMetricWarning: Precision is ill-defined and being set to 0.0 in samples with no predicted labels. Use `zero_division` parameter to control this behavior.\n",
            "  _warn_prf(average, modifier, msg_start, len(result))\n",
            "/usr/local/lib/python3.8/dist-packages/sklearn/metrics/_classification.py:1318: UndefinedMetricWarning: Precision is ill-defined and being set to 0.0 in samples with no predicted labels. Use `zero_division` parameter to control this behavior.\n",
            "  _warn_prf(average, modifier, msg_start, len(result))\n",
            "/usr/local/lib/python3.8/dist-packages/sklearn/metrics/_classification.py:1318: UndefinedMetricWarning: Precision is ill-defined and being set to 0.0 in samples with no predicted labels. Use `zero_division` parameter to control this behavior.\n",
            "  _warn_prf(average, modifier, msg_start, len(result))\n",
            "/usr/local/lib/python3.8/dist-packages/sklearn/metrics/_classification.py:1318: UndefinedMetricWarning: Precision is ill-defined and being set to 0.0 in samples with no predicted labels. Use `zero_division` parameter to control this behavior.\n",
            "  _warn_prf(average, modifier, msg_start, len(result))\n",
            "/usr/local/lib/python3.8/dist-packages/sklearn/metrics/_classification.py:1318: UndefinedMetricWarning: Precision is ill-defined and being set to 0.0 in samples with no predicted labels. Use `zero_division` parameter to control this behavior.\n",
            "  _warn_prf(average, modifier, msg_start, len(result))\n",
            "/usr/local/lib/python3.8/dist-packages/sklearn/metrics/_classification.py:1318: UndefinedMetricWarning: Precision is ill-defined and being set to 0.0 in samples with no predicted labels. Use `zero_division` parameter to control this behavior.\n",
            "  _warn_prf(average, modifier, msg_start, len(result))\n",
            "/usr/local/lib/python3.8/dist-packages/sklearn/metrics/_classification.py:1318: UndefinedMetricWarning: Precision is ill-defined and being set to 0.0 in samples with no predicted labels. Use `zero_division` parameter to control this behavior.\n",
            "  _warn_prf(average, modifier, msg_start, len(result))\n"
          ]
        }
      ]
    },
    {
      "cell_type": "code",
      "source": [
        "print(f'Precision = {precision/250}')"
      ],
      "metadata": {
        "colab": {
          "base_uri": "https://localhost:8080/"
        },
        "id": "DHPkOpU3Xw2y",
        "outputId": "7a11fec1-d629-46e8-8ecc-4bf246c4a1dd"
      },
      "execution_count": null,
      "outputs": [
        {
          "output_type": "stream",
          "name": "stdout",
          "text": [
            "Precision = 0.7701409523809528\n"
          ]
        }
      ]
    },
    {
      "cell_type": "code",
      "source": [],
      "metadata": {
        "id": "rZ0S9K2AYc6Y"
      },
      "execution_count": null,
      "outputs": []
    }
  ]
}